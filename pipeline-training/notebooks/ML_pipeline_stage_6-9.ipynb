{
 "cells": [
  {
   "cell_type": "markdown",
   "id": "8331d708-2f26-44d0-9b87-72d1bb1f4847",
   "metadata": {},
   "source": [
    "## Imports, Load Data and Configuration"
   ]
  },
  {
   "cell_type": "code",
   "execution_count": 1,
   "id": "db9388af-7dda-4889-8442-1f45fb66c219",
   "metadata": {},
   "outputs": [
    {
     "name": "stdout",
     "output_type": "stream",
     "text": [
      "C:\\Users\\reighns\\reighns_ml\\ml_projects\\aiap_batch10_coronary_artery_disease\n"
     ]
    }
   ],
   "source": [
    "%cd ..\n",
    "# do this once on top level so we can call imports from src"
   ]
  },
  {
   "cell_type": "code",
   "execution_count": 17,
   "id": "174c0acb-502c-48c2-bce8-3a72b34e4740",
   "metadata": {},
   "outputs": [],
   "source": [
    "import random\n",
    "import sqlite3\n",
    "from dataclasses import asdict, dataclass, field\n",
    "from pathlib import Path\n",
    "from typing import Any, Dict, List, Optional, Tuple, Union, Callable\n",
    "import os\n",
    "import matplotlib\n",
    "import matplotlib.pyplot as plt\n",
    "import numpy as np\n",
    "import pandas as pd\n",
    "import seaborn as sns\n",
    "import yaml\n",
    "from scipy.cluster import hierarchy\n",
    "from scipy.spatial.distance import squareform\n",
    "from scipy.stats import pearsonr, spearmanr\n",
    "from sklearn import (\n",
    "    decomposition,\n",
    "    ensemble,\n",
    "    manifold,\n",
    "    preprocessing,\n",
    "    dummy,\n",
    "    ensemble,\n",
    "    linear_model,\n",
    "    tree,\n",
    "    svm,\n",
    "    neighbors,\n",
    "    model_selection\n",
    ")\n",
    "import sklearn\n",
    "\n",
    "# can show pipeline\n",
    "sklearn.set_config(display=\"diagram\")"
   ]
  },
  {
   "cell_type": "code",
   "execution_count": 18,
   "id": "798a8279-0673-4342-9126-b91e8c7711c1",
   "metadata": {},
   "outputs": [],
   "source": [
    "@dataclass\n",
    "class config:\n",
    "    raw_data: str = \"data/survive.db\"\n",
    "    processed_data: str = \"\"\n",
    "    X_test_path: str = \"data/X_test.csv\"\n",
    "    y_test_path: str = \"data/y_test.csv\"\n",
    "    model_results_df_path: str = \"data/model_results_df.csv\"\n",
    "\n",
    "    seed: int = 1992\n",
    "    classification_type: str = \"binary\"\n",
    "    classifiers = [\n",
    "        # baseline model\n",
    "        dummy.DummyClassifier(random_state=1992, strategy=\"stratified\"),\n",
    "        # linear model\n",
    "        linear_model.LogisticRegression(random_state=1992, solver=\"liblinear\"),\n",
    "        # SVM\n",
    "        svm.SVC(probability=True, random_state=config.seed),\n",
    "        # nearest neighbours\n",
    "        neighbors.KNeighborsClassifier(n_neighbors=8),\n",
    "        # tree\n",
    "        tree.DecisionTreeClassifier(random_state=1992),\n",
    "        # ensemble\n",
    "        ensemble.RandomForestClassifier(n_estimators=10, random_state=1992),\n",
    "    ]\n",
    "\n",
    "    cv_params: Dict[str, Any] = field(\n",
    "        default_factory=lambda: {\n",
    "            \"cv_schema\": \"StratifiedGroupKFold\",\n",
    "            \"num_folds\": 6,\n",
    "            \"train_size\": 0.9,\n",
    "            \"shuffle\": True,\n",
    "            \"group_kfold_split\": \"ID\",\n",
    "            \"seed\": 1992,\n",
    "        }\n",
    "    )\n",
    "    nominal_feats: List[str] = field(default_factory=lambda: [\"Gender\"])\n",
    "    ordinal_feats: List[str] = field(\n",
    "        default_factory=lambda: [\"Smoke\", \"Diabetes\", \"Ejection Fraction\"]\n",
    "    )\n",
    "    categorical_feats: List[str] = field(\n",
    "        default_factory=lambda: [\n",
    "            \"Gender\",\n",
    "            \"Smoke\",\n",
    "            \"Diabetes\",\n",
    "            \"Ejection Fraction\",\n",
    "        ]\n",
    "    )\n",
    "    continuous_feats: List[str] = field(\n",
    "        default_factory=lambda: [\n",
    "            \"Age\",\n",
    "            \"Sodium\",\n",
    "            \"Creatinine\",\n",
    "            \"Platelets\",\n",
    "            \"Creatine phosphokinase\",\n",
    "            \"Blood Pressure\",\n",
    "            \"Hemoglobin\",\n",
    "            \"Height\",\n",
    "            \"Weight\",\n",
    "        ]\n",
    "    )\n",
    "\n",
    "    predictor_cols: List[str] = field(\n",
    "        default_factory=lambda: [\n",
    "            \"Gender\",\n",
    "            \"Smoke\",\n",
    "            \"Diabetes\",\n",
    "            \"Ejection Fraction\",\n",
    "            \"Age\",\n",
    "            \"Sodium\",\n",
    "            \"Creatinine\",\n",
    "            \"Platelets\",\n",
    "            \"Creatine phosphokinase\",\n",
    "            \"Blood Pressure\",\n",
    "            \"Hemoglobin\",\n",
    "            \"Height\",\n",
    "            \"Weight\",\n",
    "        ]\n",
    "    )\n",
    "\n",
    "    target_col: str = \"Survive\"\n",
    "\n",
    "    unwanted_cols: List[str] = field(\n",
    "        default_factory=lambda: [\"ID\", \"Favorite color\"]\n",
    "    )\n",
    "\n",
    "    # metrics\n",
    "    monitored_metric: str = \"multiclass_roc_auc_score\"\n",
    "\n",
    "    # Plotting\n",
    "    target_colors: List[str] = field(\n",
    "        default_factory=lambda: [\"#fe4a49\", \"#59981A\"]\n",
    "    )\n",
    "\n",
    "    def to_dict(self) -> Dict[str, Any]:\n",
    "        \"\"\"Convert the config object to a dictionary.\n",
    "\n",
    "        Returns:\n",
    "            Dict: The config object as a dictionary.\n",
    "        \"\"\"\n",
    "\n",
    "        return asdict(self)\n",
    "\n",
    "    def to_yaml(self, filepath: Union[str, Path]) -> str:\n",
    "        \"\"\"Convert the config object to a YAML string and write to file.\n",
    "\n",
    "        Args:\n",
    "            filepath (Union[str, Path]): The filepath to write the YAML string to.\n",
    "\n",
    "        Returns:\n",
    "            str: The config object as YAML string.\n",
    "        \"\"\"\n",
    "        return yaml.dump(self.to_dict(), filepath)\n"
   ]
  },
  {
   "cell_type": "markdown",
   "id": "27489af2-4a96-430e-8a20-c97b6a8b755a",
   "metadata": {},
   "source": [
    "We use the `config` defined here instead from my scripts to allow some flexibility in experimentation."
   ]
  },
  {
   "cell_type": "code",
   "execution_count": 19,
   "id": "2ae4b2e3-cb2d-405f-b4d2-9027fc0eecc9",
   "metadata": {},
   "outputs": [],
   "source": [
    "config = config()"
   ]
  },
  {
   "cell_type": "markdown",
   "id": "b7e7c394-a136-43b6-8ec1-29da9531afcb",
   "metadata": {},
   "source": [
    "Import my scripts from `src`."
   ]
  },
  {
   "cell_type": "code",
   "execution_count": 20,
   "id": "6f837051-f450-4bc3-980b-325175327744",
   "metadata": {},
   "outputs": [],
   "source": [
    "from src import make_folds, metrics_results, models, preprocess, train, utils"
   ]
  },
  {
   "cell_type": "code",
   "execution_count": 21,
   "id": "c547ad53-5ba9-423c-8324-b660bc0026ad",
   "metadata": {},
   "outputs": [
    {
     "name": "stdout",
     "output_type": "stream",
     "text": [
      "Using Seed Number 1992\n"
     ]
    }
   ],
   "source": [
    "utils.seed_all(seed = config.seed)"
   ]
  },
  {
   "cell_type": "code",
   "execution_count": 22,
   "id": "e8ec3530-1bc0-4b8e-8e33-5304c5804b27",
   "metadata": {},
   "outputs": [],
   "source": [
    "# Load the data using sqlite3\n",
    "df = preprocess.read_sqlite_file(\n",
    "    db_file=config.raw_data,\n",
    "    sql_query=\"SELECT * FROM survive\",\n",
    "    path_to_save=\"survive.csv\",\n",
    ")\n",
    "\n",
    "# Clean the data.\n",
    "df = preprocess.clean_df(df)"
   ]
  },
  {
   "cell_type": "markdown",
   "id": "97251d61-2b32-4545-a240-7c0a152ff24c",
   "metadata": {},
   "source": [
    "## Model Selection, Training and Evaluation"
   ]
  },
  {
   "cell_type": "markdown",
   "id": "46209e10-f6f2-4b2f-9e47-8c67f3048f65",
   "metadata": {},
   "source": [
    "### Cross-Validation and Resampling Strategy"
   ]
  },
  {
   "cell_type": "markdown",
   "id": "78794b91-9eb5-4148-bbb8-247b9b8d04e6",
   "metadata": {
    "id": "9bb0f8f0-ce09-4c85-b4dc-f11315ec84f4"
   },
   "source": [
    "!!! warning \"Generalization\"\n",
    "    > Ultimately, we are interested in the Generalization Error made by the model, that is, how well the model perform on <b>unseen data</b> that is not taken from our sample set $\\mathcal{D}$. In general, we use <b>validation set</b> for <b>Model Selection</b> and the <b>test set</b> for <b>an estimate of generalization error</b> on new data.\n",
    "            <br> <b>- Refactored from Elements of Statistical Learning, Chapter 7.2</b></p>"
   ]
  },
  {
   "cell_type": "markdown",
   "id": "301e0d0e-49c1-4300-aec6-dc4e5579f062",
   "metadata": {
    "id": "4yYt7T_Rrq7l"
   },
   "source": [
    "#### Step 1: Train-Test-Split\n",
    "\n",
    "I did not use train-test split from scikit-learn because it does not have a split by group. Since we have decided we want to **stratify** by **groups** then we should ensure our test set is split this way. I will therefore use `StratifiedGroupKFold` and split our dataset into $6$ folds where I take the last ($6$) fold as the \"hidden test (unseen) set\". In this case, our test set is also **stratified and grouped**.\n",
    "\n",
    "We note that this is a relatively small dataset and in practice, we need a large sample size to get a reliable/stable split, it is also recommended to retrain the whole dataset (without the \"unseen\" test set) after we have done the model selection process (eg. finding best hyperparameters). "
   ]
  },
  {
   "cell_type": "markdown",
   "id": "84b70777-3b0d-4cd2-9a5e-e1a7cd18bf87",
   "metadata": {
    "id": "Sddsh0t4r2iQ"
   },
   "source": [
    "#### Step 2: Resampling Strategy\n",
    "\n",
    "Note that we will be performing `StratifiedGroupKFold` as our resampling strategy. After our split in Step 1, we have a training set $X_{\\text{train}}$, we will then perform our resampling strategy on this $X_{\\text{train}}$. We will choose our choice of $K = 5$. The choice of $K$ is somewhat arbitrary, and is derived [empirically](https://stats.stackexchange.com/questions/61783/bias-and-variance-in-leave-one-out-vs-k-fold-cross-validation)."
   ]
  },
  {
   "cell_type": "markdown",
   "id": "a2a4a919-4335-4780-bdd3-0a3da7405fa5",
   "metadata": {
    "id": "jep9rucJsJVJ"
   },
   "source": [
    "#### Cross-Validation Workflow\n",
    "\n",
    "To recap, we have the following:\n",
    "\n",
    "- **Training Set ($X_{\\text{train}}$)**: This will be further split into K validation sets during our cross-validation. This set is used to fit a particular hypothesis $h \\in \\mathcal{H}$.\n",
    "- **Validation Set ($X_{\\text{val}}$)**: This is split from our $X_{\\text{train}}$ during cross-validation. This set is used for model selection (i.e. find best hyperparameters, attempt to produce a best hypothesis $g \\in \\mathcal{H}$).\n",
    "- **Test Set ($X_{\\text{test}}$)**: This is an unseen test set, and we will only use it after we finish tuning our model/hypothesis. Suppose we have a final best model $g$, we will use $g$ to predict on the test set to get an estimate of the generalization error (also called out-of-sample error).\n",
    "\n",
    "---\n",
    "\n",
    "<figure>\n",
    "<img src='https://storage.googleapis.com/reighns/reighns_ml_projects/docs/supervised_learning/classification/breast-cancer-wisconsin/data/images/grid_search_workflow.png' width=\"500\"/>\n",
    "<figcaption align = \"center\"><b>Courtesy of scikit-learn on a typical Cross-Validation workflow.</b></figcaption>\n",
    "</figure>"
   ]
  },
  {
   "cell_type": "code",
   "execution_count": 23,
   "id": "98b0e0c3-02c3-4372-b7a5-645f4b775826",
   "metadata": {},
   "outputs": [
    {
     "name": "stdout",
     "output_type": "stream",
     "text": [
      "fold  Survive\n",
      "1     0          1722\n",
      "      1           775\n",
      "2     0          1692\n",
      "      1           814\n",
      "3     0          1684\n",
      "      1           821\n",
      "4     0          1694\n",
      "      1           804\n",
      "5     0          1702\n",
      "      1           805\n",
      "6     0          1691\n",
      "      1           796\n",
      "dtype: int64\n"
     ]
    }
   ],
   "source": [
    "# Split the data into train and test sets.\n",
    "df_folds = make_folds.make_folds(df, config=config)\n",
    "\n",
    "# Drop columns that are not needed for training.\n",
    "df_folds = preprocess.drop_columns(df_folds, config=config)\n",
    "\n",
    "# 3-way cv-split, but did not use sklearn's native train_test_split because no option to use groups.\n",
    "# stratifying alone may lead to a bias in the test set with data leakage. So use this temporary workaround.\n",
    "\n",
    "X_train_and_valid, X_test = (\n",
    "    df_folds[df_folds[\"fold\"] != 6].reset_index(drop=True),\n",
    "    df_folds[df_folds[\"fold\"] == 6].reset_index(drop=True),\n",
    ")\n",
    "X_test, y_test = X_test.copy(), X_test.pop(config.target_col)"
   ]
  },
  {
   "cell_type": "markdown",
   "id": "f1ef2b7c-fb38-4f04-8b7e-5552e2f15081",
   "metadata": {},
   "source": [
    "We can check that the folds are **stratified and grouped**."
   ]
  },
  {
   "cell_type": "markdown",
   "id": "c7b6c67f-9a0b-4610-b5fc-b07b19cfbcc1",
   "metadata": {},
   "source": [
    "### Preliminary Model Selection and Algorithm Spot-Checking"
   ]
  },
  {
   "cell_type": "markdown",
   "id": "90e30e1e-e1ea-46d7-9814-b6d9ff9ed088",
   "metadata": {},
   "source": [
    "#### Preliminary Model Selection (Model Design and Choice) (Importance of EDA)\n",
    "\n",
    "Though the phrase **Model Selection** can also be used in conjunction with **Model Evaluation**, we follow Nick and Kevin's Ace the Data Science Interview book and define it as such:\n",
    "\n",
    "- First let us clear the air and understand that we can use cross-validation and **select the models** after seeing the performance on the evaluation set. But we go one step back and think of model design and choice. After all, if you do not have the resources, then it does not make sense to try out **all models and see which perform the best**.\n",
    "- Thus, we need to filter out and choose some model first.\n",
    "\n",
    "> Given business constraints, evaluation metrics and data sources, you need to ask yourself which kind of models fulfill these criterion and make the most sense to try. Factors to consider when selecting model design is:\n",
    "\n",
    "- Training and prediction speed: Linear models are fast and NNs are slow.\n",
    "- Interpretability? Do we need interpretability on the model or black box with good performance suffice?\n",
    "- EDA's importance:\n",
    "    - Dimensionality: Does your data suffer from too many variables? If yes, may consider PCA, and even after PCA or similar techniques still a lot of features, then models like KNN (with distance metrics) may not be considered unless customized.\n",
    "    - Categorical and Numerical Features: One-hot encode features for linear models, but for tree models, it is generally ok to handle them.\n",
    "    - Feature Scaling: Tells us that some models are sensitive to scale (KNN again), so if we want to use KNN, we need to scale it appropriately.\n",
    "    \n",
    "For more details, see ML cheat sheet in the book.\n",
    "\n",
    "- read here too: https://scikit-learn.org/dev/tutorial/machine_learning_map/index.html"
   ]
  },
  {
   "cell_type": "markdown",
   "id": "aaa2c7f1-f1ef-4913-9801-ace12a40dfa3",
   "metadata": {
    "id": "81f00969-f1d4-47c3-a04d-6c9f877c8245"
   },
   "source": [
    "#### Preprocessing Pipeline\n",
    "\n",
    "<div class=\"alert alert-block alert-danger\">\n",
    "<b>Say No to Data Leakage:</b> This has been emphasized throughout and we must be careful as we should never touch the test set when fitting the model. In fact, we should try our best to not <b>contaminate</b> our validation set as well.\n",
    "    <li> This means that preprocessing steps such as <code>StandardScaling()</code> should only be fitted on the training data, and then apply the same transformation (mean and std) on the test data. In other words, do not apply scaling on the whole dataset before splitting. \n",
    "    <li> However, it is also equally important to take note <b>not to contaminate</b> our validation set, which is often overlooked, resulting in over optimistic results from model selection phase, but perform badly on unseen test set. As a result, when we use a 5 fold cross validation, we should be careful during fitting that the preprocessing steps are only applied on the training folds, and not on all 5 folds.\n",
    "    <li> The same idea is also applied to our <code>ReduceVIF()</code> preprocessing step. We should also include this in our pipeline and not select the features outside the cross-validation loop.</li>\n",
    "</div>   \n",
    "\n",
    "---\n",
    "\n",
    "Quoting from **[scikit-learn](https://scikit-learn.org/stable/common_pitfalls.html)**:\n",
    "\n",
    "> Data leakage occurs when information that would not be available at prediction time is used when building the model. This results in overly optimistic performance estimates, for example from [cross-validation](https://scikit-learn.org/stable/modules/cross_validation.html#cross-validation), and thus poorer performance when the model is used on actually novel data, for example during production.\n",
    "\n",
    "> A common cause is not keeping the test and train data subsets separate. Test data should never be used to make choices about the model. **The general rule is to never call fit on the test data.** While this may sound obvious, this is easy to miss in some cases, for example when applying certain pre-processing steps.\n",
    "\n",
    "> Although both train and test data subsets should receive the same preprocessing transformation (as described in the previous section), it is important that these transformations are only learnt from the training data. For example, if you have a normalization step where you divide by the average value, the average should be the average of the train subset, not the average of all the data. If the test subset is included in the average calculation, information from the test subset is influencing the model.\n",
    "\n",
    "\n",
    "---\n",
    "\n",
    "<div class=\"alert alert-success\" role=\"alert\">\n",
    "    <b>How to avoid Data Leakage?</b> We know the pitfalls of fitting on validation/test data, the natural question is how can we avoid it completely? You can code it up yourself, but as a starter, we can use scikit-learn's <code>Pipeline</code> object. My tips are as follows:\n",
    "<li> Any preprocessing step must be done after splitting the whole dataset into train and test. If you are also using cross-validation, then we should only apply the preprocessing steps on the train set, and then use the metrics obtained from the train set to transform the validation set. You can see my pseudo-code below for a rough outline.\n",
    "    <li> The <code>Pipeline</code> object of Scikit-Learn can help prevent data leakage.\n",
    "</div>"
   ]
  },
  {
   "cell_type": "code",
   "execution_count": 24,
   "id": "94504a24-9ce2-47be-ae4c-9ddc2890eb54",
   "metadata": {},
   "outputs": [
    {
     "data": {
      "text/html": [
       "<style>#sk-3e46da43-14e7-4922-b6cd-974a22a33f0c {color: black;background-color: white;}#sk-3e46da43-14e7-4922-b6cd-974a22a33f0c pre{padding: 0;}#sk-3e46da43-14e7-4922-b6cd-974a22a33f0c div.sk-toggleable {background-color: white;}#sk-3e46da43-14e7-4922-b6cd-974a22a33f0c label.sk-toggleable__label {cursor: pointer;display: block;width: 100%;margin-bottom: 0;padding: 0.3em;box-sizing: border-box;text-align: center;}#sk-3e46da43-14e7-4922-b6cd-974a22a33f0c div.sk-toggleable__content {max-height: 0;max-width: 0;overflow: hidden;text-align: left;background-color: #f0f8ff;}#sk-3e46da43-14e7-4922-b6cd-974a22a33f0c div.sk-toggleable__content pre {margin: 0.2em;color: black;border-radius: 0.25em;background-color: #f0f8ff;}#sk-3e46da43-14e7-4922-b6cd-974a22a33f0c input.sk-toggleable__control:checked~div.sk-toggleable__content {max-height: 200px;max-width: 100%;overflow: auto;}#sk-3e46da43-14e7-4922-b6cd-974a22a33f0c div.sk-estimator input.sk-toggleable__control:checked~label.sk-toggleable__label {background-color: #d4ebff;}#sk-3e46da43-14e7-4922-b6cd-974a22a33f0c div.sk-label input.sk-toggleable__control:checked~label.sk-toggleable__label {background-color: #d4ebff;}#sk-3e46da43-14e7-4922-b6cd-974a22a33f0c input.sk-hidden--visually {border: 0;clip: rect(1px 1px 1px 1px);clip: rect(1px, 1px, 1px, 1px);height: 1px;margin: -1px;overflow: hidden;padding: 0;position: absolute;width: 1px;}#sk-3e46da43-14e7-4922-b6cd-974a22a33f0c div.sk-estimator {font-family: monospace;background-color: #f0f8ff;border: 1px dotted black;border-radius: 0.25em;box-sizing: border-box;margin-bottom: 0.5em;}#sk-3e46da43-14e7-4922-b6cd-974a22a33f0c div.sk-estimator:hover {background-color: #d4ebff;}#sk-3e46da43-14e7-4922-b6cd-974a22a33f0c div.sk-parallel-item::after {content: \"\";width: 100%;border-bottom: 1px solid gray;flex-grow: 1;}#sk-3e46da43-14e7-4922-b6cd-974a22a33f0c div.sk-label:hover label.sk-toggleable__label {background-color: #d4ebff;}#sk-3e46da43-14e7-4922-b6cd-974a22a33f0c div.sk-serial::before {content: \"\";position: absolute;border-left: 1px solid gray;box-sizing: border-box;top: 2em;bottom: 0;left: 50%;}#sk-3e46da43-14e7-4922-b6cd-974a22a33f0c div.sk-serial {display: flex;flex-direction: column;align-items: center;background-color: white;padding-right: 0.2em;padding-left: 0.2em;}#sk-3e46da43-14e7-4922-b6cd-974a22a33f0c div.sk-item {z-index: 1;}#sk-3e46da43-14e7-4922-b6cd-974a22a33f0c div.sk-parallel {display: flex;align-items: stretch;justify-content: center;background-color: white;}#sk-3e46da43-14e7-4922-b6cd-974a22a33f0c div.sk-parallel::before {content: \"\";position: absolute;border-left: 1px solid gray;box-sizing: border-box;top: 2em;bottom: 0;left: 50%;}#sk-3e46da43-14e7-4922-b6cd-974a22a33f0c div.sk-parallel-item {display: flex;flex-direction: column;position: relative;background-color: white;}#sk-3e46da43-14e7-4922-b6cd-974a22a33f0c div.sk-parallel-item:first-child::after {align-self: flex-end;width: 50%;}#sk-3e46da43-14e7-4922-b6cd-974a22a33f0c div.sk-parallel-item:last-child::after {align-self: flex-start;width: 50%;}#sk-3e46da43-14e7-4922-b6cd-974a22a33f0c div.sk-parallel-item:only-child::after {width: 0;}#sk-3e46da43-14e7-4922-b6cd-974a22a33f0c div.sk-dashed-wrapped {border: 1px dashed gray;margin: 0 0.4em 0.5em 0.4em;box-sizing: border-box;padding-bottom: 0.4em;background-color: white;position: relative;}#sk-3e46da43-14e7-4922-b6cd-974a22a33f0c div.sk-label label {font-family: monospace;font-weight: bold;background-color: white;display: inline-block;line-height: 1.2em;}#sk-3e46da43-14e7-4922-b6cd-974a22a33f0c div.sk-label-container {position: relative;z-index: 2;text-align: center;}#sk-3e46da43-14e7-4922-b6cd-974a22a33f0c div.sk-container {display: inline-block;position: relative;}</style><div id=\"sk-3e46da43-14e7-4922-b6cd-974a22a33f0c\" class\"sk-top-container\"><div class=\"sk-container\"><div class=\"sk-item sk-dashed-wrapped\"><div class=\"sk-label-container\"><div class=\"sk-label sk-toggleable\"><input class=\"sk-toggleable__control sk-hidden--visually\" id=\"c04940dd-b8fa-4cd7-ae10-efb65c8e3001\" type=\"checkbox\" ><label class=\"sk-toggleable__label\" for=\"c04940dd-b8fa-4cd7-ae10-efb65c8e3001\">ColumnTransformer</label><div class=\"sk-toggleable__content\"><pre>ColumnTransformer(transformers=[('numeric_transformer',\n",
       "                                 Pipeline(steps=[('imputer', SimpleImputer()),\n",
       "                                                 ('scaler', StandardScaler())]),\n",
       "                                 ['Age', 'Sodium', 'Creatinine', 'Platelets',\n",
       "                                  'Creatine phosphokinase', 'Blood Pressure',\n",
       "                                  'Hemoglobin', 'Height', 'Weight']),\n",
       "                                ('categorical_transformer',\n",
       "                                 Pipeline(steps=[('ohe',\n",
       "                                                  OneHotEncoder(handle_unknown='ignore'))]),\n",
       "                                 ['Gender', 'Smoke', 'Diabetes',\n",
       "                                  'Ejection Fraction'])])</pre></div></div></div><div class=\"sk-parallel\"><div class=\"sk-parallel-item\"><div class=\"sk-item\"><div class=\"sk-label-container\"><div class=\"sk-label sk-toggleable\"><input class=\"sk-toggleable__control sk-hidden--visually\" id=\"c11aff9e-473e-45e2-a0e6-86f7c5ae12b9\" type=\"checkbox\" ><label class=\"sk-toggleable__label\" for=\"c11aff9e-473e-45e2-a0e6-86f7c5ae12b9\">numeric_transformer</label><div class=\"sk-toggleable__content\"><pre>['Age', 'Sodium', 'Creatinine', 'Platelets', 'Creatine phosphokinase', 'Blood Pressure', 'Hemoglobin', 'Height', 'Weight']</pre></div></div></div><div class=\"sk-serial\"><div class=\"sk-item\"><div class=\"sk-serial\"><div class=\"sk-item\"><div class=\"sk-estimator sk-toggleable\"><input class=\"sk-toggleable__control sk-hidden--visually\" id=\"e2c1bbed-de85-45e1-8cd4-cbf9a92c0f77\" type=\"checkbox\" ><label class=\"sk-toggleable__label\" for=\"e2c1bbed-de85-45e1-8cd4-cbf9a92c0f77\">SimpleImputer</label><div class=\"sk-toggleable__content\"><pre>SimpleImputer()</pre></div></div></div><div class=\"sk-item\"><div class=\"sk-estimator sk-toggleable\"><input class=\"sk-toggleable__control sk-hidden--visually\" id=\"06d7fc31-f5bd-463b-8efe-9f3c5038984e\" type=\"checkbox\" ><label class=\"sk-toggleable__label\" for=\"06d7fc31-f5bd-463b-8efe-9f3c5038984e\">StandardScaler</label><div class=\"sk-toggleable__content\"><pre>StandardScaler()</pre></div></div></div></div></div></div></div></div><div class=\"sk-parallel-item\"><div class=\"sk-item\"><div class=\"sk-label-container\"><div class=\"sk-label sk-toggleable\"><input class=\"sk-toggleable__control sk-hidden--visually\" id=\"9a804ece-8690-4170-b893-baccaa4de588\" type=\"checkbox\" ><label class=\"sk-toggleable__label\" for=\"9a804ece-8690-4170-b893-baccaa4de588\">categorical_transformer</label><div class=\"sk-toggleable__content\"><pre>['Gender', 'Smoke', 'Diabetes', 'Ejection Fraction']</pre></div></div></div><div class=\"sk-serial\"><div class=\"sk-item\"><div class=\"sk-serial\"><div class=\"sk-item\"><div class=\"sk-estimator sk-toggleable\"><input class=\"sk-toggleable__control sk-hidden--visually\" id=\"0fcb0eec-d14a-4f2d-8526-96143cb041c9\" type=\"checkbox\" ><label class=\"sk-toggleable__label\" for=\"0fcb0eec-d14a-4f2d-8526-96143cb041c9\">OneHotEncoder</label><div class=\"sk-toggleable__content\"><pre>OneHotEncoder(handle_unknown='ignore')</pre></div></div></div></div></div></div></div></div></div></div></div></div>"
      ],
      "text/plain": [
       "ColumnTransformer(transformers=[('numeric_transformer',\n",
       "                                 Pipeline(steps=[('imputer', SimpleImputer()),\n",
       "                                                 ('scaler', StandardScaler())]),\n",
       "                                 ['Age', 'Sodium', 'Creatinine', 'Platelets',\n",
       "                                  'Creatine phosphokinase', 'Blood Pressure',\n",
       "                                  'Hemoglobin', 'Height', 'Weight']),\n",
       "                                ('categorical_transformer',\n",
       "                                 Pipeline(steps=[('ohe',\n",
       "                                                  OneHotEncoder(handle_unknown='ignore'))]),\n",
       "                                 ['Gender', 'Smoke', 'Diabetes',\n",
       "                                  'Ejection Fraction'])])"
      ]
     },
     "execution_count": 24,
     "metadata": {},
     "output_type": "execute_result"
    }
   ],
   "source": [
    "# Preprocessing pipeline\n",
    "preprocessor = preprocess.preprocessing_pipeline(config=config)\n",
    "preprocessor"
   ]
  },
  {
   "cell_type": "markdown",
   "id": "35c46b70-d510-4c3f-b7b6-698c7c10fa88",
   "metadata": {},
   "source": [
    "#### Algorithm Spot-Checking\n",
    "\n",
    "<div class=\"alert alert-success\" role=\"alert\">\n",
    "    <b>Terminology Alert!</b> This method is advocated by <a href=\"https://machinelearningmastery.com/\">Jason Brownlee PhD</a> and this serves as the first stage of my modelling process. We will rapidly test (spot check) different classifier algorithms, from <code>DummyClassifier</code>, to <code>LinearModel</code> to more sophisticated ensemble trees like <code>RandomForest</code>. \n",
    "</div>\n",
    "\n",
    "---\n",
    "\n",
    "I also note to the readers that we need to think of a few things when choosing the \"optimal\" machine learning algorithm:\n",
    "\n",
    "- [No Lunch Free Theorem](https://en.wikipedia.org/wiki/No_free_lunch_theorem) intuitively says that no single optimization algorithm can work best in all situations. Therefore, spot checking can help us form a basis of which algorithm might work better in this particular scenario.\n",
    "- [Occam's Razor](https://en.wikipedia.org/wiki/Occam%27s_razor) often appears in many Machine Learning textbook, and the narrative is that a simpler model more often times generalizes better than a complex model. This is not unfamiliar when we think of the bias-variance tradeoff, and that is why there is always a tradeoff that we must make."
   ]
  },
  {
   "cell_type": "markdown",
   "id": "468ea4f1-f3f9-4237-b666-30b90c0f3830",
   "metadata": {
    "id": "5e99732b-56c3-491d-8666-c5e7677380f2"
   },
   "source": [
    "#### Pseudo-Code of Cross-Validation and Pipeline\n",
    "\n",
    "The below outlines a pseudo code of the cross-validation scheme using `Pipeline` object. Note that I included the most outer loop, which is searching for hyperparameters.\n",
    "\n",
    "- Define $G$ as the set of combination of hyperparamters. Define number of splits to be $K$.\n",
    "- For each set of hyperparameter $z \\in Z$:\n",
    "    - for fold $j$ in K:\n",
    "        - Set $F_{\\text{train}}=\\bigcup\\limits_{i\\neq k}^{K} F_{i}$\n",
    "        - Set $F_{\\text{val}} = F_{j}$ as the validation set\n",
    "        - Perform Standard Scaling on $F_{\\text{train}}$ and find the mean and std\n",
    "        - Perform VIF recursively on $F_{\\text{train}}$ and find the selected features\n",
    "        - Transform $F_{\\text{val}}$ using the mean and std found using $F_{\\text{train}}$\n",
    "        - Transform $F_{\\text{val}}$ to have only the selected features from $F_{\\text{train}}$\n",
    "        - Train and fit on $F_{\\text{train}}$ \n",
    "    - Evaluate the fitted parameters on $F_{\\text{val}}$ to obtain $\\mathcal{M}$"
   ]
  },
  {
   "cell_type": "code",
   "execution_count": 25,
   "id": "45feb611-732a-43f4-9c6d-d050e83de2f9",
   "metadata": {},
   "outputs": [],
   "source": [
    "# Return classifiers that is now a pipeline\n",
    "classifiers_with_pipeline_dict = models.return_classifiers_with_pipeline(\n",
    "    preprocessor=preprocessor, config=config\n",
    ")"
   ]
  },
  {
   "cell_type": "code",
   "execution_count": 26,
   "id": "37e63ac6-3df6-4a76-8e91-591e1c6c059b",
   "metadata": {},
   "outputs": [],
   "source": [
    "model_results_dict = train.train_on_fold(\n",
    "    X_train_and_valid,\n",
    "    pipeline_dict=classifiers_with_pipeline_dict,\n",
    "    num_folds=5,\n",
    "    config=config,\n",
    ")"
   ]
  },
  {
   "cell_type": "markdown",
   "id": "6277ea8c-41ce-4e1b-a92e-61575f70a816",
   "metadata": {},
   "source": [
    "#### Comparison of Cross-Validated Models (CV + OOF)\n",
    "\n",
    "The point of the following comparison is to check how different models are performing across folds. More specifically, if we have 5 folds, we will have a metric score for each fold, subsequently, we can find the standard error of model's performance. We need to be aware of models that have high variance across folds in terms of the metrics performance. This can indicate that the model is highly unstable, and may be a sign of overfitting.\n",
    "\n",
    "> OOF are useful during ensembling, i.e. hill climbing technique elaborate."
   ]
  },
  {
   "cell_type": "code",
   "execution_count": 27,
   "id": "1f0c3d8c-97d7-4203-87ac-42f054b49d41",
   "metadata": {},
   "outputs": [
    {
     "data": {
      "image/png": "[encoded data removed]",
      "text/plain": [
       "<Figure size 1080x576 with 1 Axes>"
      ]
     },
     "metadata": {
      "needs_background": "light"
     },
     "output_type": "display_data"
    },
    {
     "data": {
      "text/html": [
       "<div>\n",
       "<style scoped>\n",
       "    .dataframe tbody tr th:only-of-type {\n",
       "        vertical-align: middle;\n",
       "    }\n",
       "\n",
       "    .dataframe tbody tr th {\n",
       "        vertical-align: top;\n",
       "    }\n",
       "\n",
       "    .dataframe thead th {\n",
       "        text-align: right;\n",
       "    }\n",
       "</style>\n",
       "<table border=\"1\" class=\"dataframe\">\n",
       "  <thead>\n",
       "    <tr style=\"text-align: right;\">\n",
       "      <th></th>\n",
       "      <th>model</th>\n",
       "      <th>fold</th>\n",
       "      <th>multiclass_roc_auc_score</th>\n",
       "    </tr>\n",
       "  </thead>\n",
       "  <tbody>\n",
       "    <tr>\n",
       "      <th>26</th>\n",
       "      <td>DecisionTreeClassifier</td>\n",
       "      <td>fold 3</td>\n",
       "      <td>0.989814</td>\n",
       "    </tr>\n",
       "    <tr>\n",
       "      <th>27</th>\n",
       "      <td>DecisionTreeClassifier</td>\n",
       "      <td>fold 4</td>\n",
       "      <td>0.985886</td>\n",
       "    </tr>\n",
       "    <tr>\n",
       "      <th>28</th>\n",
       "      <td>DecisionTreeClassifier</td>\n",
       "      <td>fold 5</td>\n",
       "      <td>0.985555</td>\n",
       "    </tr>\n",
       "    <tr>\n",
       "      <th>29</th>\n",
       "      <td>DecisionTreeClassifier</td>\n",
       "      <td>SE</td>\n",
       "      <td>0.001281</td>\n",
       "    </tr>\n",
       "    <tr>\n",
       "      <th>30</th>\n",
       "      <td>RandomForestClassifier</td>\n",
       "      <td>fold 1</td>\n",
       "      <td>0.999981</td>\n",
       "    </tr>\n",
       "    <tr>\n",
       "      <th>31</th>\n",
       "      <td>RandomForestClassifier</td>\n",
       "      <td>fold 2</td>\n",
       "      <td>0.999983</td>\n",
       "    </tr>\n",
       "    <tr>\n",
       "      <th>32</th>\n",
       "      <td>RandomForestClassifier</td>\n",
       "      <td>fold 3</td>\n",
       "      <td>0.999221</td>\n",
       "    </tr>\n",
       "    <tr>\n",
       "      <th>33</th>\n",
       "      <td>RandomForestClassifier</td>\n",
       "      <td>fold 4</td>\n",
       "      <td>0.999979</td>\n",
       "    </tr>\n",
       "    <tr>\n",
       "      <th>34</th>\n",
       "      <td>RandomForestClassifier</td>\n",
       "      <td>fold 5</td>\n",
       "      <td>0.999993</td>\n",
       "    </tr>\n",
       "    <tr>\n",
       "      <th>35</th>\n",
       "      <td>RandomForestClassifier</td>\n",
       "      <td>SE</td>\n",
       "      <td>0.000153</td>\n",
       "    </tr>\n",
       "  </tbody>\n",
       "</table>\n",
       "</div>"
      ],
      "text/plain": [
       "                     model    fold  multiclass_roc_auc_score\n",
       "26  DecisionTreeClassifier  fold 3                  0.989814\n",
       "27  DecisionTreeClassifier  fold 4                  0.985886\n",
       "28  DecisionTreeClassifier  fold 5                  0.985555\n",
       "29  DecisionTreeClassifier      SE                  0.001281\n",
       "30  RandomForestClassifier  fold 1                  0.999981\n",
       "31  RandomForestClassifier  fold 2                  0.999983\n",
       "32  RandomForestClassifier  fold 3                  0.999221\n",
       "33  RandomForestClassifier  fold 4                  0.999979\n",
       "34  RandomForestClassifier  fold 5                  0.999993\n",
       "35  RandomForestClassifier      SE                  0.000153"
      ]
     },
     "metadata": {},
     "output_type": "display_data"
    }
   ],
   "source": [
    "plot_boxplot = True\n",
    "\n",
    "# Takes in a model_dict and add cv results to the dict\n",
    "model_results_dict_with_summary = {\n",
    "    model: metrics_results.add_cv_results(model_results)\n",
    "    for model, model_results in model_results_dict.items()\n",
    "}\n",
    "\n",
    "# Transforms model_dict_with_summary to a Dict of dataframes\n",
    "# model_results_df['LogisticRegression'] -> df\n",
    "model_results_df = {\n",
    "    name: results.to_dataframe().T\n",
    "    for name, results in model_results_dict_with_summary.items()\n",
    "}\n",
    "model_results_df = pd.concat(model_results_df, axis=0)\n",
    "\n",
    "# TODO: Fix-hardcoded column names, is it necessary to hardcode?\n",
    "model_results_df.columns = [\n",
    "    \"fold 1\",\n",
    "    \"fold 2\",\n",
    "    \"fold 3\",\n",
    "    \"fold 4\",\n",
    "    \"fold 5\",\n",
    "    \"mean_cv\",\n",
    "    \"std_cv\",\n",
    "    \"oof_cv\",\n",
    "]\n",
    "\n",
    "if plot_boxplot:\n",
    "    summary_df = metrics_results.summarize_metrics(\n",
    "        model_results_dict=model_results_dict,\n",
    "        metric_name=config.monitored_metric,\n",
    "    )\n",
    "    \n",
    "    display(summary_df.tail(10))"
   ]
  },
  {
   "cell_type": "markdown",
   "id": "11022ed9-495f-4b5a-92cd-707a91409fa1",
   "metadata": {},
   "source": [
    "#### Out-of-Fold Confusion Matrix (TODO: Fix color issues)\n",
    "\n",
    "We do have information on the performance of each folds, we now look at the performance of all 5 folds together. Typicall there are two ways to do it, one is to simply take the average of the score of five folds, the other is to take a look at out of folds predictions.\n",
    "\n",
    "---\n",
    "\n",
    "From the confusion matrix of the out of fold performance, Logistic Regression does seem to be a model we can explore on, although slightly lower in terms of overall AUROC score than SVC, it seems to have the quite low False Negatives amongst all. With further hyperparameter tuning and threshold optimization, we can make it better."
   ]
  },
  {
   "cell_type": "code",
   "execution_count": 28,
   "id": "39a1d09a-920e-4474-bf93-967bb6c96326",
   "metadata": {},
   "outputs": [],
   "source": [
    "plot_confusion_matrix = True"
   ]
  },
  {
   "cell_type": "code",
   "execution_count": 29,
   "id": "1d552de2-69ea-4702-95d4-65504de845ee",
   "metadata": {},
   "outputs": [
    {
     "data": {
      "image/png": "[encoded data removed]",
      "text/plain": [
       "<Figure size 720x720 with 6 Axes>"
      ]
     },
     "metadata": {
      "needs_background": "light"
     },
     "output_type": "display_data"
    }
   ],
   "source": [
    "if plot_confusion_matrix:\n",
    "    model_names = list(model_results_dict.keys())\n",
    "    metrics_results.plot_binary_confusion_matrix(\n",
    "        model_results_df, model_names\n",
    "    )"
   ]
  },
  {
   "cell_type": "markdown",
   "id": "00c952a7-cdee-4297-bd07-fdf35261cb54",
   "metadata": {
    "id": "18f521fd-054d-4b39-8971-8af2aa1c8dff"
   },
   "source": [
    "#### Hypothesis Testing Across Models (TODO after AIAP)\n",
    "\n",
    "I am slightly shocked at the performance of plain `LogisticRegression`, I decide to use an idea from [Hypothesis Testing Across Models](http://rasbt.github.io/mlxtend/user_guide/evaluate/paired_ttest_kfold_cv/) to check if the difference is really by chance or not. Note that I will be modifying his code as his code does not split using StratifiedKFold.\n",
    "\n",
    "---\n",
    "\n",
    "The basic idea is to test if two model's difference in scores (in this case roc), is statistically significant or not. However, we note that this method may violate an assumption of Student's t test.\n",
    "\n",
    "---\n",
    "\n",
    "- Null Hypothesis $H_0$: The difference in the performance score of two classifiers is Statistically Significant.\n",
    "- Alternate Hypothesis $H_1$: The difference in the performance score of two classifiers is **not** Statistically Significant."
   ]
  },
  {
   "cell_type": "code",
   "execution_count": 15,
   "id": "cfde02c3-d61b-4780-9fe5-f9d14ec861c0",
   "metadata": {
    "id": "6b25f5a2-9921-4371-a93a-0c5466eef811"
   },
   "outputs": [],
   "source": [
    "# def paired_ttest_skfold_cv(\n",
    "#     estimator1: Callable,\n",
    "#     estimator2: Callable,\n",
    "#     X: np.ndarray,\n",
    "#     y: np.ndarray,\n",
    "#     cv: int = 10,\n",
    "#     scoring: str = None,\n",
    "#     shuffle: bool = False,\n",
    "#     random_seed: int = None,\n",
    "# ) -> float:\n",
    "#     \"\"\"Modified from https://github.com/rasbt/mlxtend/blob/master/mlxtend/evaluate/ttest.py to accomodate StratifiedKFold.\n",
    "\n",
    "#     Args:\n",
    "#         estimator1 (Callable): [description]\n",
    "#         estimator2 (Callable): [description]\n",
    "#         X (np.ndarray): [description]\n",
    "#         y (np.ndarray): [description]\n",
    "#         cv (int, optional): [description]. Defaults to 10.\n",
    "#         scoring (str, optional): [description]. Defaults to None.\n",
    "#         shuffle (bool, optional): [description]. Defaults to False.\n",
    "#         random_seed (int, optional): [description]. Defaults to None.\n",
    "\n",
    "#     Raises:\n",
    "#         AttributeError: [description]\n",
    "\n",
    "#     Returns:\n",
    "#         float: [description]\n",
    "#     \"\"\"\n",
    "#     if not shuffle:\n",
    "#         skf = model_selection.StratifiedKFold(n_splits=cv, shuffle=shuffle)\n",
    "#     else:\n",
    "#         skf = model_selection.StratifiedKFold(\n",
    "#             n_splits=cv, random_state=random_seed, shuffle=shuffle\n",
    "#         )\n",
    "\n",
    "#     if scoring is None:\n",
    "#         if estimator1._estimator_type == \"classifier\":\n",
    "#             scoring = \"accuracy\"\n",
    "#         elif estimator1._estimator_type == \"regressor\":\n",
    "#             scoring = \"r2\"\n",
    "#         else:\n",
    "#             raise AttributeError(\"Estimator must \" \"be a Classifier or Regressor.\")\n",
    "#     if isinstance(scoring, str):\n",
    "#         scorer = metrics.get_scorer(scoring)\n",
    "#     else:\n",
    "#         scorer = scoring\n",
    "\n",
    "#     score_diff = []\n",
    "\n",
    "#     for train_index, test_index in skf.split(X=X, y=y):\n",
    "#         X_train, X_test = X[train_index], X[test_index]\n",
    "#         y_train, y_test = y[train_index], y[test_index]\n",
    "\n",
    "#         estimator1.fit(X_train, y_train)\n",
    "#         estimator2.fit(X_train, y_train)\n",
    "\n",
    "#         est1_score = scorer(estimator1, X_test, y_test)\n",
    "#         est2_score = scorer(estimator2, X_test, y_test)\n",
    "#         score_diff.append(est1_score - est2_score)\n",
    "\n",
    "#     avg_diff = np.mean(score_diff)\n",
    "\n",
    "#     numerator = avg_diff * np.sqrt(cv)\n",
    "#     denominator = np.sqrt(\n",
    "#         sum([(diff - avg_diff) ** 2 for diff in score_diff]) / (cv - 1)\n",
    "#     )\n",
    "#     t_stat = numerator / denominator\n",
    "\n",
    "#     pvalue = stats.t.sf(np.abs(t_stat), cv - 1) * 2.0\n",
    "#     return float(t_stat), float(pvalue)\n"
   ]
  },
  {
   "cell_type": "code",
   "execution_count": 16,
   "id": "aa4d9c86-d159-4668-986d-228482d9f4b9",
   "metadata": {
    "id": "392e1daa-1175-42d3-b398-29e45b066e0c"
   },
   "outputs": [],
   "source": [
    "# # check if difference between algorithms is real\n",
    "# X_tmp = df_folds[predictor_cols].values\n",
    "# y_tmp = df_folds['diagnosis'].values\n",
    "\n",
    "# t, p = paired_ttest_skfold_cv(estimator1=classifiers[1], estimator2=classifiers[-1],shuffle=True,cv=5, X=X_tmp, y=y_tmp, scoring='roc_auc', random_seed=config.seed)"
   ]
  },
  {
   "cell_type": "code",
   "execution_count": 17,
   "id": "a0ea2a25-9d55-47a1-934d-1f4f862f2005",
   "metadata": {
    "colab": {
     "base_uri": "https://localhost:8080/"
    },
    "executionInfo": {
     "elapsed": 387,
     "status": "ok",
     "timestamp": 1636812276326,
     "user": {
      "displayName": "Hongnan Gao",
      "photoUrl": "https://lh3.googleusercontent.com/a/default-user=s64",
      "userId": "04730584788169020152"
     },
     "user_tz": -480
    },
    "id": "6e6d7844-d8da-427d-a46f-9d0398e2bab2",
    "outputId": "464526e6-6859-4cac-c326-b185cc43d4cc"
   },
   "outputs": [],
   "source": [
    "# logger.info('P-value: %.3f, t-Statistic: %.3f' % (p, t))"
   ]
  },
  {
   "cell_type": "markdown",
   "id": "43ec001b-826e-4c90-924a-9ea8c1494834",
   "metadata": {},
   "source": [
    "### Model Evaluation and Hyperparameter Tuning"
   ]
  },
  {
   "cell_type": "markdown",
   "id": "8a2712a0-d23e-4113-9e68-7209e0e5c7e2",
   "metadata": {
    "id": "e4a9dcf7-9de6-4508-9f83-d97b7aa724f0"
   },
   "source": [
    "#### Model Selection (Part 2): Hyperparameter Tuning with GridSearchCV\n",
    "\n",
    "Here we are no longer talking about our model choice and design, here we already chose a few models for training, and after training, we need to select the best hyperparameters for those models."
   ]
  },
  {
   "cell_type": "markdown",
   "id": "728ccd2e-2666-4499-9a30-c1dca8f611f1",
   "metadata": {
    "id": "c06510a3-7aaf-4b45-982f-ce6703c3e602"
   },
   "source": [
    "!!! success \"Hyperparameter Tuning\"\n",
    "    We have done a quick spot checking on algorithms and realized that `LogisticRegression` is doing well for this task. For this purpose, I will just perform hyperparameter tuning on this single algorithm. However, in practice and if resources are allowed, I will also tune other models such as `RandomForest()`, or gradient boosting algorithms such as `XGBoost`, as I believe they will perform no worse than our Logistic Regression model given the right hyperparameters.\n",
    "\n",
    "\n",
    "---\n",
    "\n",
    "!!! info \"Grid Search is the Gwei?\"\n",
    "    Meh! We will use an old-fashioned way to search for hyperparameters, which is brute force method. The time complexity of Grid Search is high and if you have many hyperparameters to tune, I recommend trying out <b>Random Grid Search</b> or libraries like <b>Optuna</b> that uses Bayesian Optimization.\n",
    "\n",
    "---\n",
    "\n",
    "!!! note \"TODO\"\n",
    "    Try to code up your own `GridSearchCV` to have maximum flexibility."
   ]
  },
  {
   "cell_type": "markdown",
   "id": "9567bfb0-3f8b-423c-8223-97a9bc2eea88",
   "metadata": {
    "id": "AorZg7j9oNR5"
   },
   "source": [
    "##### Make Finetuning Pipeline\n",
    "\n",
    "The following `make_finetuning_pipeline` does exactly the same thing is as `make_pipeline` earlier. The only difference is we can pass in flexible list of steps to the pipeline from outside."
   ]
  },
  {
   "cell_type": "code",
   "execution_count": 30,
   "id": "1780e63e-fe05-428b-bd5b-ae946cb25d20",
   "metadata": {},
   "outputs": [],
   "source": [
    "# Return classifiers that is now a pipeline\n",
    "finetuning_classifiers_with_pipeline_dict = models.return_classifiers_with_pipeline(\n",
    "    preprocessor=preprocessor, config=config\n",
    ")\n",
    "\n",
    "# not interested in finetuning dummy\n",
    "del finetuning_classifiers_with_pipeline_dict[\"DummyClassifier\"]"
   ]
  },
  {
   "cell_type": "code",
   "execution_count": 31,
   "id": "f311ebaa-1187-469d-ae91-75ff133ca146",
   "metadata": {},
   "outputs": [],
   "source": [
    "@dataclass\n",
    "class ModelForTuning:\n",
    "    model: Callable\n",
    "    param_grid: Dict"
   ]
  },
  {
   "cell_type": "code",
   "execution_count": 32,
   "id": "9fb2ae87-2427-42f4-a6da-5089dc6b5d05",
   "metadata": {},
   "outputs": [],
   "source": [
    "models_for_tuning_list = [\n",
    "    ModelForTuning(\n",
    "        model=linear_model.LogisticRegression(\n",
    "            solver=\"saga\",\n",
    "            random_state=config.seed,\n",
    "            max_iter=10000,\n",
    "            n_jobs=-1,\n",
    "            fit_intercept=True,\n",
    "        ),\n",
    "        param_grid=dict(\n",
    "            model__penalty=[\"l1\", \"l2\"],\n",
    "            model__C=np.logspace(-4, 4, 10),\n",
    "        ),\n",
    "    ),\n",
    "    ModelForTuning(\n",
    "        model=tree.DecisionTreeClassifier(random_state=config.seed),\n",
    "        param_grid=dict(\n",
    "            model__max_depth=[2, 3, 5, 10, 20],\n",
    "            model__min_samples_leaf=[5, 10, 20, 50, 100],\n",
    "            model__criterion=[\"gini\", \"entropy\"],\n",
    "        ),\n",
    "    ),\n",
    "    ModelForTuning(\n",
    "        model=ensemble.RandomForestClassifier(n_estimators=10),\n",
    "        param_grid=dict(\n",
    "            model__max_depth=[3, 6, None],\n",
    "        ),\n",
    "    ),\n",
    "]"
   ]
  },
  {
   "cell_type": "markdown",
   "id": "853f710c-c60d-4f8f-b696-73b70cfac320",
   "metadata": {},
   "source": [
    "Modify when have time to take in steps."
   ]
  },
  {
   "cell_type": "code",
   "execution_count": 33,
   "id": "93ecef3c-f000-4550-ade7-6c026666af4b",
   "metadata": {},
   "outputs": [],
   "source": [
    "def optimize_models(\n",
    "    models_list: List[ModelForTuning],\n",
    "    X_train: np.ndarray,\n",
    "    y_train: np.ndarray,\n",
    "    scorer: Union[str, Callable] = None,\n",
    "    steps: List[Tuple[str, Callable]] = None,\n",
    ") -> List[Callable]:\n",
    "    \"\"\"Optimize models in models_list using X_train and y_train.\n",
    "    We are using GridSearchCV to find the best parameters for each model.\n",
    "    Consider using Optuna for hyperparameter optimization (or wandb for hyperparameter optimization).\n",
    "\n",
    "    Args:\n",
    "        models_list (List[ModelForTuning]): List of models to optimize.\n",
    "        X_train (np.ndarray): X_train data.\n",
    "        y_train (np.ndarray): y_train data.\n",
    "\n",
    "    Returns:\n",
    "        grids (List[Callable]): List of optimized models.\n",
    "    \"\"\"\n",
    "    # @ TODO: make a scoring list to pass in so we can evaluate multiple metrics.\n",
    "    grids = []\n",
    "    for model_for_tuning in models_for_tuning_list:\n",
    "        model_name = model_for_tuning.model.__class__.__name__\n",
    "        param_grid = model_for_tuning.param_grid\n",
    "        pipeline_ = finetuning_classifiers_with_pipeline_dict[model_name]\n",
    "        grid = model_selection.GridSearchCV(\n",
    "                pipeline_,\n",
    "                param_grid=param_grid,\n",
    "                cv=5,\n",
    "                refit=True,\n",
    "                verbose=1,\n",
    "                scoring=scorer,\n",
    "                n_jobs=-1,\n",
    "            )\n",
    "        grids.append(grid)\n",
    "\n",
    "    for grid in grids:\n",
    "        grid.fit(X_train, y_train)\n",
    "\n",
    "    return grids"
   ]
  },
  {
   "cell_type": "code",
   "execution_count": 34,
   "id": "a11c6965-ffa8-4b94-9bd5-d43acc4f00ae",
   "metadata": {},
   "outputs": [],
   "source": [
    "roc_auc_scorer = \"roc_auc_ovr\" \n",
    "# Unsure why this gives much lower score - to investigate\n",
    "# metrics.make_scorer(metrics.roc_auc_score, average=\"macro\", multi_class='ovr')"
   ]
  },
  {
   "cell_type": "code",
   "execution_count": 35,
   "id": "762ae843-1138-4459-8362-71d0ea548781",
   "metadata": {},
   "outputs": [],
   "source": [
    "X_train, y_train = X_train_and_valid[config.predictor_cols], X_train_and_valid[config.target_col]"
   ]
  },
  {
   "cell_type": "code",
   "execution_count": 36,
   "id": "eef7ed29-ff19-4693-9fbd-67f986715549",
   "metadata": {},
   "outputs": [
    {
     "name": "stdout",
     "output_type": "stream",
     "text": [
      "Fitting 5 folds for each of 20 candidates, totalling 100 fits\n",
      "Fitting 5 folds for each of 50 candidates, totalling 250 fits\n",
      "Fitting 5 folds for each of 3 candidates, totalling 15 fits\n"
     ]
    }
   ],
   "source": [
    "grids = optimize_models(models_for_tuning_list, X_train, y_train, scorer=roc_auc_scorer)"
   ]
  },
  {
   "cell_type": "code",
   "execution_count": 37,
   "id": "e25a9fc8-dbe0-4244-8220-8332ea87bf84",
   "metadata": {},
   "outputs": [
    {
     "data": {
      "text/html": [
       "<div>\n",
       "<style scoped>\n",
       "    .dataframe tbody tr th:only-of-type {\n",
       "        vertical-align: middle;\n",
       "    }\n",
       "\n",
       "    .dataframe tbody tr th {\n",
       "        vertical-align: top;\n",
       "    }\n",
       "\n",
       "    .dataframe thead th {\n",
       "        text-align: right;\n",
       "    }\n",
       "</style>\n",
       "<table border=\"1\" class=\"dataframe\">\n",
       "  <thead>\n",
       "    <tr style=\"text-align: right;\">\n",
       "      <th></th>\n",
       "      <th>mean_fit_time</th>\n",
       "      <th>std_fit_time</th>\n",
       "      <th>mean_score_time</th>\n",
       "      <th>std_score_time</th>\n",
       "      <th>param_model__C</th>\n",
       "      <th>param_model__penalty</th>\n",
       "      <th>params</th>\n",
       "      <th>split0_test_score</th>\n",
       "      <th>split1_test_score</th>\n",
       "      <th>split2_test_score</th>\n",
       "      <th>split3_test_score</th>\n",
       "      <th>split4_test_score</th>\n",
       "      <th>mean_test_score</th>\n",
       "      <th>std_test_score</th>\n",
       "      <th>rank_test_score</th>\n",
       "    </tr>\n",
       "  </thead>\n",
       "  <tbody>\n",
       "    <tr>\n",
       "      <th>14</th>\n",
       "      <td>0.064203</td>\n",
       "      <td>0.005194</td>\n",
       "      <td>0.011207</td>\n",
       "      <td>0.000717</td>\n",
       "      <td>166.810054</td>\n",
       "      <td>l1</td>\n",
       "      <td>{'model__C': 166.81005372000558, 'model__penal...</td>\n",
       "      <td>0.874185</td>\n",
       "      <td>0.877626</td>\n",
       "      <td>0.86919</td>\n",
       "      <td>0.860597</td>\n",
       "      <td>0.864495</td>\n",
       "      <td>0.869219</td>\n",
       "      <td>0.006197</td>\n",
       "      <td>1</td>\n",
       "    </tr>\n",
       "  </tbody>\n",
       "</table>\n",
       "</div>"
      ],
      "text/plain": [
       "    mean_fit_time  std_fit_time  mean_score_time  std_score_time  \\\n",
       "14       0.064203      0.005194         0.011207        0.000717   \n",
       "\n",
       "   param_model__C param_model__penalty  \\\n",
       "14     166.810054                   l1   \n",
       "\n",
       "                                               params  split0_test_score  \\\n",
       "14  {'model__C': 166.81005372000558, 'model__penal...           0.874185   \n",
       "\n",
       "    split1_test_score  split2_test_score  split3_test_score  \\\n",
       "14           0.877626            0.86919           0.860597   \n",
       "\n",
       "    split4_test_score  mean_test_score  std_test_score  rank_test_score  \n",
       "14           0.864495         0.869219        0.006197                1  "
      ]
     },
     "metadata": {},
     "output_type": "display_data"
    }
   ],
   "source": [
    "# For example, we can see Logistic Regression's GridSearchCV\n",
    "# results like this.\n",
    "grid_cv_df = pd.DataFrame(grids[0].cv_results_)\n",
    "display(grid_cv_df.loc[grid_cv_df['rank_test_score']==1])"
   ]
  },
  {
   "cell_type": "code",
   "execution_count": 38,
   "id": "2837c3ed-fd11-4364-b589-1803db6dba7d",
   "metadata": {},
   "outputs": [
    {
     "data": {
      "text/html": [
       "<div>\n",
       "<style scoped>\n",
       "    .dataframe tbody tr th:only-of-type {\n",
       "        vertical-align: middle;\n",
       "    }\n",
       "\n",
       "    .dataframe tbody tr th {\n",
       "        vertical-align: top;\n",
       "    }\n",
       "\n",
       "    .dataframe thead th {\n",
       "        text-align: right;\n",
       "    }\n",
       "</style>\n",
       "<table border=\"1\" class=\"dataframe\">\n",
       "  <thead>\n",
       "    <tr style=\"text-align: right;\">\n",
       "      <th></th>\n",
       "      <th>mean_fit_time</th>\n",
       "      <th>std_fit_time</th>\n",
       "      <th>mean_score_time</th>\n",
       "      <th>std_score_time</th>\n",
       "      <th>param_model__criterion</th>\n",
       "      <th>param_model__max_depth</th>\n",
       "      <th>param_model__min_samples_leaf</th>\n",
       "      <th>params</th>\n",
       "      <th>split0_test_score</th>\n",
       "      <th>split1_test_score</th>\n",
       "      <th>split2_test_score</th>\n",
       "      <th>split3_test_score</th>\n",
       "      <th>split4_test_score</th>\n",
       "      <th>mean_test_score</th>\n",
       "      <th>std_test_score</th>\n",
       "      <th>rank_test_score</th>\n",
       "    </tr>\n",
       "  </thead>\n",
       "  <tbody>\n",
       "    <tr>\n",
       "      <th>45</th>\n",
       "      <td>0.0661</td>\n",
       "      <td>0.005769</td>\n",
       "      <td>0.007978</td>\n",
       "      <td>0.000002</td>\n",
       "      <td>entropy</td>\n",
       "      <td>20</td>\n",
       "      <td>5</td>\n",
       "      <td>{'model__criterion': 'entropy', 'model__max_de...</td>\n",
       "      <td>0.99088</td>\n",
       "      <td>0.986214</td>\n",
       "      <td>0.992496</td>\n",
       "      <td>0.993286</td>\n",
       "      <td>0.991689</td>\n",
       "      <td>0.990913</td>\n",
       "      <td>0.002483</td>\n",
       "      <td>1</td>\n",
       "    </tr>\n",
       "  </tbody>\n",
       "</table>\n",
       "</div>"
      ],
      "text/plain": [
       "    mean_fit_time  std_fit_time  mean_score_time  std_score_time  \\\n",
       "45         0.0661      0.005769         0.007978        0.000002   \n",
       "\n",
       "   param_model__criterion param_model__max_depth  \\\n",
       "45                entropy                     20   \n",
       "\n",
       "   param_model__min_samples_leaf  \\\n",
       "45                             5   \n",
       "\n",
       "                                               params  split0_test_score  \\\n",
       "45  {'model__criterion': 'entropy', 'model__max_de...            0.99088   \n",
       "\n",
       "    split1_test_score  split2_test_score  split3_test_score  \\\n",
       "45           0.986214           0.992496           0.993286   \n",
       "\n",
       "    split4_test_score  mean_test_score  std_test_score  rank_test_score  \n",
       "45           0.991689         0.990913        0.002483                1  "
      ]
     },
     "metadata": {},
     "output_type": "display_data"
    }
   ],
   "source": [
    "# For example, we can see DT GridSearchCV\n",
    "# results like this.\n",
    "grid_cv_df = pd.DataFrame(grids[1].cv_results_)\n",
    "display(grid_cv_df.loc[grid_cv_df['rank_test_score']==1])"
   ]
  },
  {
   "cell_type": "code",
   "execution_count": 39,
   "id": "0885bd6d-f2c6-431c-960b-b2b2edf3baf0",
   "metadata": {},
   "outputs": [
    {
     "data": {
      "text/html": [
       "<div>\n",
       "<style scoped>\n",
       "    .dataframe tbody tr th:only-of-type {\n",
       "        vertical-align: middle;\n",
       "    }\n",
       "\n",
       "    .dataframe tbody tr th {\n",
       "        vertical-align: top;\n",
       "    }\n",
       "\n",
       "    .dataframe thead th {\n",
       "        text-align: right;\n",
       "    }\n",
       "</style>\n",
       "<table border=\"1\" class=\"dataframe\">\n",
       "  <thead>\n",
       "    <tr style=\"text-align: right;\">\n",
       "      <th></th>\n",
       "      <th>mean_fit_time</th>\n",
       "      <th>std_fit_time</th>\n",
       "      <th>mean_score_time</th>\n",
       "      <th>std_score_time</th>\n",
       "      <th>param_model__max_depth</th>\n",
       "      <th>params</th>\n",
       "      <th>split0_test_score</th>\n",
       "      <th>split1_test_score</th>\n",
       "      <th>split2_test_score</th>\n",
       "      <th>split3_test_score</th>\n",
       "      <th>split4_test_score</th>\n",
       "      <th>mean_test_score</th>\n",
       "      <th>std_test_score</th>\n",
       "      <th>rank_test_score</th>\n",
       "    </tr>\n",
       "  </thead>\n",
       "  <tbody>\n",
       "    <tr>\n",
       "      <th>2</th>\n",
       "      <td>0.094945</td>\n",
       "      <td>0.006351</td>\n",
       "      <td>0.006981</td>\n",
       "      <td>3.568323e-07</td>\n",
       "      <td>None</td>\n",
       "      <td>{'model__max_depth': None}</td>\n",
       "      <td>1.0</td>\n",
       "      <td>0.999996</td>\n",
       "      <td>0.999998</td>\n",
       "      <td>0.999972</td>\n",
       "      <td>0.999966</td>\n",
       "      <td>0.999986</td>\n",
       "      <td>0.000015</td>\n",
       "      <td>1</td>\n",
       "    </tr>\n",
       "  </tbody>\n",
       "</table>\n",
       "</div>"
      ],
      "text/plain": [
       "   mean_fit_time  std_fit_time  mean_score_time  std_score_time  \\\n",
       "2       0.094945      0.006351         0.006981    3.568323e-07   \n",
       "\n",
       "  param_model__max_depth                      params  split0_test_score  \\\n",
       "2                   None  {'model__max_depth': None}                1.0   \n",
       "\n",
       "   split1_test_score  split2_test_score  split3_test_score  split4_test_score  \\\n",
       "2           0.999996           0.999998           0.999972           0.999966   \n",
       "\n",
       "   mean_test_score  std_test_score  rank_test_score  \n",
       "2         0.999986        0.000015                1  "
      ]
     },
     "metadata": {},
     "output_type": "display_data"
    }
   ],
   "source": [
    "# For example, we can see RF GridSearchCV\n",
    "# results like this.\n",
    "grid_cv_df = pd.DataFrame(grids[2].cv_results_)\n",
    "display(grid_cv_df.loc[grid_cv_df['rank_test_score']==1])"
   ]
  },
  {
   "cell_type": "code",
   "execution_count": 40,
   "id": "7dfdf147-d1c2-419e-8c63-4e2339c2701f",
   "metadata": {},
   "outputs": [],
   "source": [
    "def return_grid_df(\n",
    "    grids: List[model_selection.GridSearchCV],\n",
    ") -> Union[pd.DataFrame, List[model_selection.GridSearchCV]]:\n",
    "    \"\"\"Return a dataframe of the grids with shorted names.\n",
    "\n",
    "    Args:\n",
    "        grids (List[model_selection.GridSearchCV]): A list of GridSearchCV models that are tuned.\n",
    "\n",
    "    Returns:\n",
    "        grid_df, grids (Union[pd.DataFrame, List[model_selection.GridSearchCV]]): A dataframe of the grids with shorted names.\n",
    "    \"\"\"\n",
    "\n",
    "    def shorten_param(param_name):\n",
    "        if \"__\" in param_name:\n",
    "            return param_name.rsplit(\"__\", 1)[1]\n",
    "        return param_name\n",
    "\n",
    "    grid_df = []\n",
    "    for grid in grids:\n",
    "        model_name = grid.estimator[\"model\"].__class__.__name__\n",
    "        cv_results = pd.DataFrame(grid.cv_results_).sort_values(\n",
    "            \"mean_test_score\", ascending=False\n",
    "        )\n",
    "\n",
    "        # get the parameter names\n",
    "        column_results = [f\"param_{name}\" for name in grid.param_grid.keys()]\n",
    "        column_results += [\n",
    "            \"mean_test_score\",\n",
    "            \"std_test_score\",\n",
    "            \"rank_test_score\",\n",
    "        ]\n",
    "        cv_results = cv_results[column_results]\n",
    "        cv_results = cv_results.rename(shorten_param, axis=1)\n",
    "        cv_results[\"model_name\"] = model_name\n",
    "        grid_df.append(cv_results)\n",
    "\n",
    "    return grid_df, grids"
   ]
  },
  {
   "cell_type": "code",
   "execution_count": 41,
   "id": "613bcdd0-57ff-41f9-aa9d-02bba8e0d47f",
   "metadata": {},
   "outputs": [],
   "source": [
    "# grid_df and grids should necessarily be in the same sequence.\n",
    "# grid_df[0] == grids[0] in terms of model information, in this\n",
    "# case, the first index of both should be logistic regression.\n",
    "grid_df, grids = return_grid_df(grids)"
   ]
  },
  {
   "cell_type": "code",
   "execution_count": 42,
   "id": "939fc6fb-7b01-4aa5-9429-3daa46e54105",
   "metadata": {},
   "outputs": [
    {
     "data": {
      "text/html": [
       "<style>#sk-47fd4791-e50a-4f59-b649-69e71b93e830 {color: black;background-color: white;}#sk-47fd4791-e50a-4f59-b649-69e71b93e830 pre{padding: 0;}#sk-47fd4791-e50a-4f59-b649-69e71b93e830 div.sk-toggleable {background-color: white;}#sk-47fd4791-e50a-4f59-b649-69e71b93e830 label.sk-toggleable__label {cursor: pointer;display: block;width: 100%;margin-bottom: 0;padding: 0.3em;box-sizing: border-box;text-align: center;}#sk-47fd4791-e50a-4f59-b649-69e71b93e830 div.sk-toggleable__content {max-height: 0;max-width: 0;overflow: hidden;text-align: left;background-color: #f0f8ff;}#sk-47fd4791-e50a-4f59-b649-69e71b93e830 div.sk-toggleable__content pre {margin: 0.2em;color: black;border-radius: 0.25em;background-color: #f0f8ff;}#sk-47fd4791-e50a-4f59-b649-69e71b93e830 input.sk-toggleable__control:checked~div.sk-toggleable__content {max-height: 200px;max-width: 100%;overflow: auto;}#sk-47fd4791-e50a-4f59-b649-69e71b93e830 div.sk-estimator input.sk-toggleable__control:checked~label.sk-toggleable__label {background-color: #d4ebff;}#sk-47fd4791-e50a-4f59-b649-69e71b93e830 div.sk-label input.sk-toggleable__control:checked~label.sk-toggleable__label {background-color: #d4ebff;}#sk-47fd4791-e50a-4f59-b649-69e71b93e830 input.sk-hidden--visually {border: 0;clip: rect(1px 1px 1px 1px);clip: rect(1px, 1px, 1px, 1px);height: 1px;margin: -1px;overflow: hidden;padding: 0;position: absolute;width: 1px;}#sk-47fd4791-e50a-4f59-b649-69e71b93e830 div.sk-estimator {font-family: monospace;background-color: #f0f8ff;border: 1px dotted black;border-radius: 0.25em;box-sizing: border-box;margin-bottom: 0.5em;}#sk-47fd4791-e50a-4f59-b649-69e71b93e830 div.sk-estimator:hover {background-color: #d4ebff;}#sk-47fd4791-e50a-4f59-b649-69e71b93e830 div.sk-parallel-item::after {content: \"\";width: 100%;border-bottom: 1px solid gray;flex-grow: 1;}#sk-47fd4791-e50a-4f59-b649-69e71b93e830 div.sk-label:hover label.sk-toggleable__label {background-color: #d4ebff;}#sk-47fd4791-e50a-4f59-b649-69e71b93e830 div.sk-serial::before {content: \"\";position: absolute;border-left: 1px solid gray;box-sizing: border-box;top: 2em;bottom: 0;left: 50%;}#sk-47fd4791-e50a-4f59-b649-69e71b93e830 div.sk-serial {display: flex;flex-direction: column;align-items: center;background-color: white;padding-right: 0.2em;padding-left: 0.2em;}#sk-47fd4791-e50a-4f59-b649-69e71b93e830 div.sk-item {z-index: 1;}#sk-47fd4791-e50a-4f59-b649-69e71b93e830 div.sk-parallel {display: flex;align-items: stretch;justify-content: center;background-color: white;}#sk-47fd4791-e50a-4f59-b649-69e71b93e830 div.sk-parallel::before {content: \"\";position: absolute;border-left: 1px solid gray;box-sizing: border-box;top: 2em;bottom: 0;left: 50%;}#sk-47fd4791-e50a-4f59-b649-69e71b93e830 div.sk-parallel-item {display: flex;flex-direction: column;position: relative;background-color: white;}#sk-47fd4791-e50a-4f59-b649-69e71b93e830 div.sk-parallel-item:first-child::after {align-self: flex-end;width: 50%;}#sk-47fd4791-e50a-4f59-b649-69e71b93e830 div.sk-parallel-item:last-child::after {align-self: flex-start;width: 50%;}#sk-47fd4791-e50a-4f59-b649-69e71b93e830 div.sk-parallel-item:only-child::after {width: 0;}#sk-47fd4791-e50a-4f59-b649-69e71b93e830 div.sk-dashed-wrapped {border: 1px dashed gray;margin: 0 0.4em 0.5em 0.4em;box-sizing: border-box;padding-bottom: 0.4em;background-color: white;position: relative;}#sk-47fd4791-e50a-4f59-b649-69e71b93e830 div.sk-label label {font-family: monospace;font-weight: bold;background-color: white;display: inline-block;line-height: 1.2em;}#sk-47fd4791-e50a-4f59-b649-69e71b93e830 div.sk-label-container {position: relative;z-index: 2;text-align: center;}#sk-47fd4791-e50a-4f59-b649-69e71b93e830 div.sk-container {display: inline-block;position: relative;}</style><div id=\"sk-47fd4791-e50a-4f59-b649-69e71b93e830\" class\"sk-top-container\"><div class=\"sk-container\"><div class=\"sk-item sk-dashed-wrapped\"><div class=\"sk-label-container\"><div class=\"sk-label sk-toggleable\"><input class=\"sk-toggleable__control sk-hidden--visually\" id=\"34d3bbf7-29d1-4aa0-ae04-f158ca3e11a0\" type=\"checkbox\" ><label class=\"sk-toggleable__label\" for=\"34d3bbf7-29d1-4aa0-ae04-f158ca3e11a0\">GridSearchCV</label><div class=\"sk-toggleable__content\"><pre>GridSearchCV(cv=5,\n",
       "             estimator=Pipeline(steps=[('preprocessor',\n",
       "                                        ColumnTransformer(transformers=[('numeric_transformer',\n",
       "                                                                         Pipeline(steps=[('imputer',\n",
       "                                                                                          SimpleImputer()),\n",
       "                                                                                         ('scaler',\n",
       "                                                                                          StandardScaler())]),\n",
       "                                                                         ['Age',\n",
       "                                                                          'Sodium',\n",
       "                                                                          'Creatinine',\n",
       "                                                                          'Platelets',\n",
       "                                                                          'Creatine '\n",
       "                                                                          'phosphokinase',\n",
       "                                                                          'Blood '\n",
       "                                                                          'Pressure',\n",
       "                                                                          'Hemoglobin',\n",
       "                                                                          'Height',\n",
       "                                                                          'Weight']),\n",
       "                                                                        ('categorical_transformer',\n",
       "                                                                         Pipeline(steps=[...\n",
       "                                                                          'Diabetes',\n",
       "                                                                          'Ejection '\n",
       "                                                                          'Fraction'])])),\n",
       "                                       ('model',\n",
       "                                        LogisticRegression(random_state=1992,\n",
       "                                                           solver='liblinear'))]),\n",
       "             n_jobs=-1,\n",
       "             param_grid={'model__C': array([1.00000000e-04, 7.74263683e-04, 5.99484250e-03, 4.64158883e-02,\n",
       "       3.59381366e-01, 2.78255940e+00, 2.15443469e+01, 1.66810054e+02,\n",
       "       1.29154967e+03, 1.00000000e+04]),\n",
       "                         'model__penalty': ['l1', 'l2']},\n",
       "             scoring='roc_auc_ovr', verbose=1)</pre></div></div></div><div class=\"sk-parallel\"><div class=\"sk-parallel-item\"><div class=\"sk-item\"><div class=\"sk-serial\"><div class=\"sk-item\"><div class=\"sk-serial\"><div class=\"sk-item sk-dashed-wrapped\"><div class=\"sk-label-container\"><div class=\"sk-label sk-toggleable\"><input class=\"sk-toggleable__control sk-hidden--visually\" id=\"a84d0aa4-1f25-4d03-be6b-bbe568a0b451\" type=\"checkbox\" ><label class=\"sk-toggleable__label\" for=\"a84d0aa4-1f25-4d03-be6b-bbe568a0b451\">preprocessor: ColumnTransformer</label><div class=\"sk-toggleable__content\"><pre>ColumnTransformer(transformers=[('numeric_transformer',\n",
       "                                 Pipeline(steps=[('imputer', SimpleImputer()),\n",
       "                                                 ('scaler', StandardScaler())]),\n",
       "                                 ['Age', 'Sodium', 'Creatinine', 'Platelets',\n",
       "                                  'Creatine phosphokinase', 'Blood Pressure',\n",
       "                                  'Hemoglobin', 'Height', 'Weight']),\n",
       "                                ('categorical_transformer',\n",
       "                                 Pipeline(steps=[('ohe',\n",
       "                                                  OneHotEncoder(handle_unknown='ignore'))]),\n",
       "                                 ['Gender', 'Smoke', 'Diabetes',\n",
       "                                  'Ejection Fraction'])])</pre></div></div></div><div class=\"sk-parallel\"><div class=\"sk-parallel-item\"><div class=\"sk-item\"><div class=\"sk-label-container\"><div class=\"sk-label sk-toggleable\"><input class=\"sk-toggleable__control sk-hidden--visually\" id=\"33576f85-89a2-490e-8d51-9bdc5338b086\" type=\"checkbox\" ><label class=\"sk-toggleable__label\" for=\"33576f85-89a2-490e-8d51-9bdc5338b086\">numeric_transformer</label><div class=\"sk-toggleable__content\"><pre>['Age', 'Sodium', 'Creatinine', 'Platelets', 'Creatine phosphokinase', 'Blood Pressure', 'Hemoglobin', 'Height', 'Weight']</pre></div></div></div><div class=\"sk-serial\"><div class=\"sk-item\"><div class=\"sk-serial\"><div class=\"sk-item\"><div class=\"sk-estimator sk-toggleable\"><input class=\"sk-toggleable__control sk-hidden--visually\" id=\"ec3e246d-44fd-441a-b8b5-384340803ee0\" type=\"checkbox\" ><label class=\"sk-toggleable__label\" for=\"ec3e246d-44fd-441a-b8b5-384340803ee0\">SimpleImputer</label><div class=\"sk-toggleable__content\"><pre>SimpleImputer()</pre></div></div></div><div class=\"sk-item\"><div class=\"sk-estimator sk-toggleable\"><input class=\"sk-toggleable__control sk-hidden--visually\" id=\"1fb7c736-6c78-4d64-b27f-02355b64942c\" type=\"checkbox\" ><label class=\"sk-toggleable__label\" for=\"1fb7c736-6c78-4d64-b27f-02355b64942c\">StandardScaler</label><div class=\"sk-toggleable__content\"><pre>StandardScaler()</pre></div></div></div></div></div></div></div></div><div class=\"sk-parallel-item\"><div class=\"sk-item\"><div class=\"sk-label-container\"><div class=\"sk-label sk-toggleable\"><input class=\"sk-toggleable__control sk-hidden--visually\" id=\"aa560638-30bc-42b2-9f7b-f6ac1c97d461\" type=\"checkbox\" ><label class=\"sk-toggleable__label\" for=\"aa560638-30bc-42b2-9f7b-f6ac1c97d461\">categorical_transformer</label><div class=\"sk-toggleable__content\"><pre>['Gender', 'Smoke', 'Diabetes', 'Ejection Fraction']</pre></div></div></div><div class=\"sk-serial\"><div class=\"sk-item\"><div class=\"sk-serial\"><div class=\"sk-item\"><div class=\"sk-estimator sk-toggleable\"><input class=\"sk-toggleable__control sk-hidden--visually\" id=\"927b1c8f-af78-4517-bf14-6fe0804fd4f6\" type=\"checkbox\" ><label class=\"sk-toggleable__label\" for=\"927b1c8f-af78-4517-bf14-6fe0804fd4f6\">OneHotEncoder</label><div class=\"sk-toggleable__content\"><pre>OneHotEncoder(handle_unknown='ignore')</pre></div></div></div></div></div></div></div></div></div></div><div class=\"sk-item\"><div class=\"sk-estimator sk-toggleable\"><input class=\"sk-toggleable__control sk-hidden--visually\" id=\"851c59ea-bb04-4e69-b1af-2f4b528533aa\" type=\"checkbox\" ><label class=\"sk-toggleable__label\" for=\"851c59ea-bb04-4e69-b1af-2f4b528533aa\">LogisticRegression</label><div class=\"sk-toggleable__content\"><pre>LogisticRegression(random_state=1992, solver='liblinear')</pre></div></div></div></div></div></div></div></div></div></div></div></div>"
      ],
      "text/plain": [
       "GridSearchCV(cv=5,\n",
       "             estimator=Pipeline(steps=[('preprocessor',\n",
       "                                        ColumnTransformer(transformers=[('numeric_transformer',\n",
       "                                                                         Pipeline(steps=[('imputer',\n",
       "                                                                                          SimpleImputer()),\n",
       "                                                                                         ('scaler',\n",
       "                                                                                          StandardScaler())]),\n",
       "                                                                         ['Age',\n",
       "                                                                          'Sodium',\n",
       "                                                                          'Creatinine',\n",
       "                                                                          'Platelets',\n",
       "                                                                          'Creatine '\n",
       "                                                                          'phosphokinase',\n",
       "                                                                          'Blood '\n",
       "                                                                          'Pressure',\n",
       "                                                                          'Hemoglobin',\n",
       "                                                                          'Height',\n",
       "                                                                          'Weight']),\n",
       "                                                                        ('categorical_transformer',\n",
       "                                                                         Pipeline(steps=[...\n",
       "                                                                          'Diabetes',\n",
       "                                                                          'Ejection '\n",
       "                                                                          'Fraction'])])),\n",
       "                                       ('model',\n",
       "                                        LogisticRegression(random_state=1992,\n",
       "                                                           solver='liblinear'))]),\n",
       "             n_jobs=-1,\n",
       "             param_grid={'model__C': array([1.00000000e-04, 7.74263683e-04, 5.99484250e-03, 4.64158883e-02,\n",
       "       3.59381366e-01, 2.78255940e+00, 2.15443469e+01, 1.66810054e+02,\n",
       "       1.29154967e+03, 1.00000000e+04]),\n",
       "                         'model__penalty': ['l1', 'l2']},\n",
       "             scoring='roc_auc_ovr', verbose=1)"
      ]
     },
     "execution_count": 42,
     "metadata": {},
     "output_type": "execute_result"
    }
   ],
   "source": [
    "grids[0]"
   ]
  },
  {
   "cell_type": "code",
   "execution_count": 43,
   "id": "386ae156-2fbe-45fc-bd0c-69137ea474df",
   "metadata": {},
   "outputs": [
    {
     "data": {
      "text/html": [
       "<div>\n",
       "<style scoped>\n",
       "    .dataframe tbody tr th:only-of-type {\n",
       "        vertical-align: middle;\n",
       "    }\n",
       "\n",
       "    .dataframe tbody tr th {\n",
       "        vertical-align: top;\n",
       "    }\n",
       "\n",
       "    .dataframe thead th {\n",
       "        text-align: right;\n",
       "    }\n",
       "</style>\n",
       "<table border=\"1\" class=\"dataframe\">\n",
       "  <thead>\n",
       "    <tr style=\"text-align: right;\">\n",
       "      <th></th>\n",
       "      <th>penalty</th>\n",
       "      <th>C</th>\n",
       "      <th>mean_test_score</th>\n",
       "      <th>std_test_score</th>\n",
       "      <th>rank_test_score</th>\n",
       "      <th>model_name</th>\n",
       "    </tr>\n",
       "  </thead>\n",
       "  <tbody>\n",
       "    <tr>\n",
       "      <th>14</th>\n",
       "      <td>l1</td>\n",
       "      <td>166.810054</td>\n",
       "      <td>0.869219</td>\n",
       "      <td>0.006197</td>\n",
       "      <td>1</td>\n",
       "      <td>LogisticRegression</td>\n",
       "    </tr>\n",
       "  </tbody>\n",
       "</table>\n",
       "</div>"
      ],
      "text/plain": [
       "   penalty           C  mean_test_score  std_test_score  rank_test_score  \\\n",
       "14      l1  166.810054         0.869219        0.006197                1   \n",
       "\n",
       "            model_name  \n",
       "14  LogisticRegression  "
      ]
     },
     "metadata": {},
     "output_type": "display_data"
    },
    {
     "name": "stdout",
     "output_type": "stream",
     "text": [
      "\n"
     ]
    },
    {
     "data": {
      "text/html": [
       "<div>\n",
       "<style scoped>\n",
       "    .dataframe tbody tr th:only-of-type {\n",
       "        vertical-align: middle;\n",
       "    }\n",
       "\n",
       "    .dataframe tbody tr th {\n",
       "        vertical-align: top;\n",
       "    }\n",
       "\n",
       "    .dataframe thead th {\n",
       "        text-align: right;\n",
       "    }\n",
       "</style>\n",
       "<table border=\"1\" class=\"dataframe\">\n",
       "  <thead>\n",
       "    <tr style=\"text-align: right;\">\n",
       "      <th></th>\n",
       "      <th>max_depth</th>\n",
       "      <th>min_samples_leaf</th>\n",
       "      <th>criterion</th>\n",
       "      <th>mean_test_score</th>\n",
       "      <th>std_test_score</th>\n",
       "      <th>rank_test_score</th>\n",
       "      <th>model_name</th>\n",
       "    </tr>\n",
       "  </thead>\n",
       "  <tbody>\n",
       "    <tr>\n",
       "      <th>45</th>\n",
       "      <td>20</td>\n",
       "      <td>5</td>\n",
       "      <td>entropy</td>\n",
       "      <td>0.990913</td>\n",
       "      <td>0.002483</td>\n",
       "      <td>1</td>\n",
       "      <td>DecisionTreeClassifier</td>\n",
       "    </tr>\n",
       "  </tbody>\n",
       "</table>\n",
       "</div>"
      ],
      "text/plain": [
       "   max_depth min_samples_leaf criterion  mean_test_score  std_test_score  \\\n",
       "45        20                5   entropy         0.990913        0.002483   \n",
       "\n",
       "    rank_test_score              model_name  \n",
       "45                1  DecisionTreeClassifier  "
      ]
     },
     "metadata": {},
     "output_type": "display_data"
    },
    {
     "name": "stdout",
     "output_type": "stream",
     "text": [
      "\n"
     ]
    },
    {
     "data": {
      "text/html": [
       "<div>\n",
       "<style scoped>\n",
       "    .dataframe tbody tr th:only-of-type {\n",
       "        vertical-align: middle;\n",
       "    }\n",
       "\n",
       "    .dataframe tbody tr th {\n",
       "        vertical-align: top;\n",
       "    }\n",
       "\n",
       "    .dataframe thead th {\n",
       "        text-align: right;\n",
       "    }\n",
       "</style>\n",
       "<table border=\"1\" class=\"dataframe\">\n",
       "  <thead>\n",
       "    <tr style=\"text-align: right;\">\n",
       "      <th></th>\n",
       "      <th>max_depth</th>\n",
       "      <th>mean_test_score</th>\n",
       "      <th>std_test_score</th>\n",
       "      <th>rank_test_score</th>\n",
       "      <th>model_name</th>\n",
       "    </tr>\n",
       "  </thead>\n",
       "  <tbody>\n",
       "    <tr>\n",
       "      <th>2</th>\n",
       "      <td>None</td>\n",
       "      <td>0.999986</td>\n",
       "      <td>0.000015</td>\n",
       "      <td>1</td>\n",
       "      <td>RandomForestClassifier</td>\n",
       "    </tr>\n",
       "  </tbody>\n",
       "</table>\n",
       "</div>"
      ],
      "text/plain": [
       "  max_depth  mean_test_score  std_test_score  rank_test_score  \\\n",
       "2      None         0.999986        0.000015                1   \n",
       "\n",
       "               model_name  \n",
       "2  RandomForestClassifier  "
      ]
     },
     "metadata": {},
     "output_type": "display_data"
    },
    {
     "name": "stdout",
     "output_type": "stream",
     "text": [
      "\n"
     ]
    }
   ],
   "source": [
    "for model_df, grid in zip(grid_df, grids):\n",
    "    best_hyperparams_df = model_df.iloc[[0]]\n",
    "    model_name = best_hyperparams_df.model_name.unique()[0]\n",
    "    # logger.info(f\"Best hyperparameters found for {model_name} is as follows:\\n{grid.best_params_}\")\n",
    "    display(best_hyperparams_df)\n",
    "    print()"
   ]
  },
  {
   "cell_type": "markdown",
   "id": "c94bbe6c-7b83-441a-908c-bfca980c3df5",
   "metadata": {
    "id": "5dde751c-61f0-4c77-a510-e14a3f2f8d57"
   },
   "source": [
    "!!! success\n",
    "    Our best performing set of hyperparameters for Logistic Regression `{'model__C': 0.3593813663804626, 'model__penalty': 'l1'}` gives rise to a mean cross validation score of $0.995419$, which is higher than the model with default hyperparameter scoring, $0.995$ by a small margin. Not too surprising for Logistic Regression here since there aren't many things to tune, and should not see major improvements, but for Decesion Tree, it has increased from 0.907 to around 0.95, seeing quite a big jump with tuned params.\n",
    "\n",
    "!!! danger \"DANGERRRRRRRRRRRRR\"\n",
    "    I am being a bit hand wavy in terms of comparison here, I assumed THAT `GridSearchCV` used the exact same splitting strategy (yes it uses `StratifiedKFold` here) with the exact **SEED/RANDOM_STATE**, which I cannot promise as of now. Thus, a different splitting will, unfortunately, result in different results, although, I don't expect by a huge margin - so I think it is a no-go to compare like this.\n",
    "    We can probably pass in a cv function into `GridSearchCV` to ensure seeding. \n",
    "    This also highlights a problem that even K-fold splitting does not guarantee the reduction in variance. "
   ]
  },
  {
   "cell_type": "markdown",
   "id": "a46ba313-a2cc-42d4-89d9-b40c5ed8b348",
   "metadata": {
    "id": "3f1e7164-5449-426b-a3fb-8699255183cb"
   },
   "source": [
    "!!! sucess \"Room for Improvement\"\n",
    "    Apart from the other methods to search for the optimal hyperparameters, we can also include preprocessing step as a tunable hyperparameter. More specifically, in our `ReduceVIF()` step, we hard coded two manual criterion in which the algorithm will stop; if the threshold reaches 10, or if the number of features removed hit 20; we can include them in the search space so we do not need to worry about how many features to remove!"
   ]
  },
  {
   "cell_type": "markdown",
   "id": "819ee3b3-d562-4177-a60e-89013d8b0bb2",
   "metadata": {},
   "source": [
    "#### Model Retrain with Hyperparameters on whole Train\n",
    "\n",
    "- Page 30 ish thereabout see Sebastian's Model Evaluation paper Model Evaluation, Model Selection, and Algorithm:\n",
    "    - The last step usually is retrain train + valid."
   ]
  },
  {
   "cell_type": "markdown",
   "id": "1d6d97ef-cfc1-4493-8fc3-cfcb481356a5",
   "metadata": {
    "id": "F9_5PYUiRNqf"
   },
   "source": [
    "!!! info \"Retraining Methods\"\n",
    "    From the discussion[^cpmp], my doubts are cleared. Quoting verbatim from the discussion, we have:\n",
    "\n",
    "K-folds cross validation was devised as a way to assess model performance using training data. A great paper on this from Sebastian Raschka is a must read https://arxiv.org/abs/1811.12808. You use K-folds cv to tune you model, then retrain on all training data with best hyperparamters found.\n",
    "\n",
    "However, once you have run K-fold cv, you get $K$ trained models. Kagglers quickly found that ensembling these models was giving good results at zero computation cost, rather than having to retrain a model on full data. It soon became a very common practice.\n",
    "\n",
    "---\n",
    "\n",
    "!!! note \"Takeway\"\n",
    "    For small-medium datasets, after finding the best hyperparameters $G$, we use $G$ in our model $h$ to train on the whole dataset $\\mathcal{X}$ again to get the fitted parameters of $h$. Then you use the newly gained fitted parameters to then evaluate on the **Test Set**.\n",
    "    For large and computationally expensive datasets, when you finished your K-folds, say 5 folds, you get 5 \"different\" models, $h_{i}, i \\in {1, 2, 3, 4, 5}$, what you can do is to save the weights (or in normal ML, weights refer to the parameters gained), and evaluate on the test set for each of the five models, you then get 5 different test predictions, and a common practice is the do a simple mean of these 5 set of predictions. \n",
    "\n",
    "\n",
    "\n",
    "[^cpmp]: https://www.kaggle.com/c/ventilator-pressure-prediction/discussion/275883"
   ]
  },
  {
   "cell_type": "markdown",
   "id": "367bfa57-f823-413b-9c35-53f74554df15",
   "metadata": {
    "id": "JCpYRWuuP2cs"
   },
   "source": [
    "##### Retrain on K-Folds\n",
    "\n",
    "TODO: This should be easy for me as I dabbled more in Kaggle comp and are more familiar with this methodology."
   ]
  },
  {
   "cell_type": "markdown",
   "id": "233ac7fd-f8f7-4dc3-a743-87c56426be34",
   "metadata": {
    "id": "e4a626cc-c72e-4666-8fd8-5120f3554e6d"
   },
   "source": [
    "##### Retrain on the whole training set\n",
    "\n",
    "A common practice after the hyperparameter tuning phase is to retrain the model on the whole dataset $X_{\\text{train}}$ where we will get the estimator's coefficients obtained from the retraining. This is actually already done as the scikit-learn's `GridSearchCV` has a parameter `refit`; if we select it to be true, then after the model selection process is done (i.e. getting the best hyperparameters after cross validation with grid search), the grid search object will retrain on the whole $X_{\\text{train}}$ with the best hyperparameters internally, and return us back an object in which we can call `predict` etc."
   ]
  },
  {
   "cell_type": "markdown",
   "id": "6f42ba43-0a7f-423f-8651-19257fe7a328",
   "metadata": {
    "id": "TUGGk42T443s"
   },
   "source": [
    "!!! warning \"Paranoia Alert\"\n",
    "\n",
    "    However, to be extra careful, we can retrain manually using the best hyperparameters and check if scikit-learn is true to its documentation. We will just reconstruct the pipeline using the grid's best hyper parameters. We will then test if the retrained model's coefficients coincide with the grid's best estimator's coefficients. If there difference is 0, this means they are trained under the same circumstances and we can be sure that the refit parameter is behaving true to its words.\n",
    "\n",
    "    ```python\n",
    "    grid_best_hyperparams = grid.best_params_\n",
    "    print(grid_best_hyperparams) ->\n",
    "    {'model__C': 0.3593813663804626, 'model__penalty': 'l1'}\n",
    "    ```"
   ]
  },
  {
   "cell_type": "code",
   "execution_count": 44,
   "id": "d20390e4-e798-4b9f-9d93-f66f1703c38b",
   "metadata": {},
   "outputs": [],
   "source": [
    "# Return classifiers that is now a pipeline\n",
    "retrain_classifiers_with_pipeline_dict = models.return_classifiers_with_pipeline(\n",
    "    preprocessor=preprocessor, config=config\n",
    ")\n",
    "\n",
    "# not interested in finetuning dummy\n",
    "del retrain_classifiers_with_pipeline_dict[\"DummyClassifier\"]"
   ]
  },
  {
   "cell_type": "markdown",
   "id": "ef570e78-8f0d-4e96-95cf-bd3b5af46f92",
   "metadata": {},
   "source": [
    "##### LR Retrained"
   ]
  },
  {
   "cell_type": "code",
   "execution_count": 45,
   "id": "32b2e6e9-c65c-4e4d-9a20-18dc518c42a0",
   "metadata": {},
   "outputs": [
    {
     "data": {
      "text/html": [
       "<style>#sk-1201365c-1dc8-442f-98f3-9193f9b02060 {color: black;background-color: white;}#sk-1201365c-1dc8-442f-98f3-9193f9b02060 pre{padding: 0;}#sk-1201365c-1dc8-442f-98f3-9193f9b02060 div.sk-toggleable {background-color: white;}#sk-1201365c-1dc8-442f-98f3-9193f9b02060 label.sk-toggleable__label {cursor: pointer;display: block;width: 100%;margin-bottom: 0;padding: 0.3em;box-sizing: border-box;text-align: center;}#sk-1201365c-1dc8-442f-98f3-9193f9b02060 div.sk-toggleable__content {max-height: 0;max-width: 0;overflow: hidden;text-align: left;background-color: #f0f8ff;}#sk-1201365c-1dc8-442f-98f3-9193f9b02060 div.sk-toggleable__content pre {margin: 0.2em;color: black;border-radius: 0.25em;background-color: #f0f8ff;}#sk-1201365c-1dc8-442f-98f3-9193f9b02060 input.sk-toggleable__control:checked~div.sk-toggleable__content {max-height: 200px;max-width: 100%;overflow: auto;}#sk-1201365c-1dc8-442f-98f3-9193f9b02060 div.sk-estimator input.sk-toggleable__control:checked~label.sk-toggleable__label {background-color: #d4ebff;}#sk-1201365c-1dc8-442f-98f3-9193f9b02060 div.sk-label input.sk-toggleable__control:checked~label.sk-toggleable__label {background-color: #d4ebff;}#sk-1201365c-1dc8-442f-98f3-9193f9b02060 input.sk-hidden--visually {border: 0;clip: rect(1px 1px 1px 1px);clip: rect(1px, 1px, 1px, 1px);height: 1px;margin: -1px;overflow: hidden;padding: 0;position: absolute;width: 1px;}#sk-1201365c-1dc8-442f-98f3-9193f9b02060 div.sk-estimator {font-family: monospace;background-color: #f0f8ff;border: 1px dotted black;border-radius: 0.25em;box-sizing: border-box;margin-bottom: 0.5em;}#sk-1201365c-1dc8-442f-98f3-9193f9b02060 div.sk-estimator:hover {background-color: #d4ebff;}#sk-1201365c-1dc8-442f-98f3-9193f9b02060 div.sk-parallel-item::after {content: \"\";width: 100%;border-bottom: 1px solid gray;flex-grow: 1;}#sk-1201365c-1dc8-442f-98f3-9193f9b02060 div.sk-label:hover label.sk-toggleable__label {background-color: #d4ebff;}#sk-1201365c-1dc8-442f-98f3-9193f9b02060 div.sk-serial::before {content: \"\";position: absolute;border-left: 1px solid gray;box-sizing: border-box;top: 2em;bottom: 0;left: 50%;}#sk-1201365c-1dc8-442f-98f3-9193f9b02060 div.sk-serial {display: flex;flex-direction: column;align-items: center;background-color: white;padding-right: 0.2em;padding-left: 0.2em;}#sk-1201365c-1dc8-442f-98f3-9193f9b02060 div.sk-item {z-index: 1;}#sk-1201365c-1dc8-442f-98f3-9193f9b02060 div.sk-parallel {display: flex;align-items: stretch;justify-content: center;background-color: white;}#sk-1201365c-1dc8-442f-98f3-9193f9b02060 div.sk-parallel::before {content: \"\";position: absolute;border-left: 1px solid gray;box-sizing: border-box;top: 2em;bottom: 0;left: 50%;}#sk-1201365c-1dc8-442f-98f3-9193f9b02060 div.sk-parallel-item {display: flex;flex-direction: column;position: relative;background-color: white;}#sk-1201365c-1dc8-442f-98f3-9193f9b02060 div.sk-parallel-item:first-child::after {align-self: flex-end;width: 50%;}#sk-1201365c-1dc8-442f-98f3-9193f9b02060 div.sk-parallel-item:last-child::after {align-self: flex-start;width: 50%;}#sk-1201365c-1dc8-442f-98f3-9193f9b02060 div.sk-parallel-item:only-child::after {width: 0;}#sk-1201365c-1dc8-442f-98f3-9193f9b02060 div.sk-dashed-wrapped {border: 1px dashed gray;margin: 0 0.4em 0.5em 0.4em;box-sizing: border-box;padding-bottom: 0.4em;background-color: white;position: relative;}#sk-1201365c-1dc8-442f-98f3-9193f9b02060 div.sk-label label {font-family: monospace;font-weight: bold;background-color: white;display: inline-block;line-height: 1.2em;}#sk-1201365c-1dc8-442f-98f3-9193f9b02060 div.sk-label-container {position: relative;z-index: 2;text-align: center;}#sk-1201365c-1dc8-442f-98f3-9193f9b02060 div.sk-container {display: inline-block;position: relative;}</style><div id=\"sk-1201365c-1dc8-442f-98f3-9193f9b02060\" class\"sk-top-container\"><div class=\"sk-container\"><div class=\"sk-item sk-dashed-wrapped\"><div class=\"sk-label-container\"><div class=\"sk-label sk-toggleable\"><input class=\"sk-toggleable__control sk-hidden--visually\" id=\"58cb798a-cea3-4df8-b3bd-78fd4fdb6c5f\" type=\"checkbox\" ><label class=\"sk-toggleable__label\" for=\"58cb798a-cea3-4df8-b3bd-78fd4fdb6c5f\">Pipeline</label><div class=\"sk-toggleable__content\"><pre>Pipeline(steps=[('preprocessor',\n",
       "                 ColumnTransformer(transformers=[('numeric_transformer',\n",
       "                                                  Pipeline(steps=[('imputer',\n",
       "                                                                   SimpleImputer()),\n",
       "                                                                  ('scaler',\n",
       "                                                                   StandardScaler())]),\n",
       "                                                  ['Age', 'Sodium',\n",
       "                                                   'Creatinine', 'Platelets',\n",
       "                                                   'Creatine phosphokinase',\n",
       "                                                   'Blood Pressure',\n",
       "                                                   'Hemoglobin', 'Height',\n",
       "                                                   'Weight']),\n",
       "                                                 ('categorical_transformer',\n",
       "                                                  Pipeline(steps=[('ohe',\n",
       "                                                                   OneHotEncoder(handle_unknown='ignore'))]),\n",
       "                                                  ['Gender', 'Smoke',\n",
       "                                                   'Diabetes',\n",
       "                                                   'Ejection Fraction'])])),\n",
       "                ('model',\n",
       "                 LogisticRegression(random_state=1992, solver='liblinear'))])</pre></div></div></div><div class=\"sk-serial\"><div class=\"sk-item sk-dashed-wrapped\"><div class=\"sk-label-container\"><div class=\"sk-label sk-toggleable\"><input class=\"sk-toggleable__control sk-hidden--visually\" id=\"7250382c-9221-4092-8b8a-38d8fd97aad4\" type=\"checkbox\" ><label class=\"sk-toggleable__label\" for=\"7250382c-9221-4092-8b8a-38d8fd97aad4\">preprocessor: ColumnTransformer</label><div class=\"sk-toggleable__content\"><pre>ColumnTransformer(transformers=[('numeric_transformer',\n",
       "                                 Pipeline(steps=[('imputer', SimpleImputer()),\n",
       "                                                 ('scaler', StandardScaler())]),\n",
       "                                 ['Age', 'Sodium', 'Creatinine', 'Platelets',\n",
       "                                  'Creatine phosphokinase', 'Blood Pressure',\n",
       "                                  'Hemoglobin', 'Height', 'Weight']),\n",
       "                                ('categorical_transformer',\n",
       "                                 Pipeline(steps=[('ohe',\n",
       "                                                  OneHotEncoder(handle_unknown='ignore'))]),\n",
       "                                 ['Gender', 'Smoke', 'Diabetes',\n",
       "                                  'Ejection Fraction'])])</pre></div></div></div><div class=\"sk-parallel\"><div class=\"sk-parallel-item\"><div class=\"sk-item\"><div class=\"sk-label-container\"><div class=\"sk-label sk-toggleable\"><input class=\"sk-toggleable__control sk-hidden--visually\" id=\"084f8699-3cc2-4920-aa3d-4e8f94df1fae\" type=\"checkbox\" ><label class=\"sk-toggleable__label\" for=\"084f8699-3cc2-4920-aa3d-4e8f94df1fae\">numeric_transformer</label><div class=\"sk-toggleable__content\"><pre>['Age', 'Sodium', 'Creatinine', 'Platelets', 'Creatine phosphokinase', 'Blood Pressure', 'Hemoglobin', 'Height', 'Weight']</pre></div></div></div><div class=\"sk-serial\"><div class=\"sk-item\"><div class=\"sk-serial\"><div class=\"sk-item\"><div class=\"sk-estimator sk-toggleable\"><input class=\"sk-toggleable__control sk-hidden--visually\" id=\"74a014fa-9b0b-4467-ba51-39951bd8f22a\" type=\"checkbox\" ><label class=\"sk-toggleable__label\" for=\"74a014fa-9b0b-4467-ba51-39951bd8f22a\">SimpleImputer</label><div class=\"sk-toggleable__content\"><pre>SimpleImputer()</pre></div></div></div><div class=\"sk-item\"><div class=\"sk-estimator sk-toggleable\"><input class=\"sk-toggleable__control sk-hidden--visually\" id=\"92c817d7-3a1c-4e67-961d-b8b1e6f43485\" type=\"checkbox\" ><label class=\"sk-toggleable__label\" for=\"92c817d7-3a1c-4e67-961d-b8b1e6f43485\">StandardScaler</label><div class=\"sk-toggleable__content\"><pre>StandardScaler()</pre></div></div></div></div></div></div></div></div><div class=\"sk-parallel-item\"><div class=\"sk-item\"><div class=\"sk-label-container\"><div class=\"sk-label sk-toggleable\"><input class=\"sk-toggleable__control sk-hidden--visually\" id=\"04a2e1b9-2fde-4b0d-ab56-48fc2ce20e19\" type=\"checkbox\" ><label class=\"sk-toggleable__label\" for=\"04a2e1b9-2fde-4b0d-ab56-48fc2ce20e19\">categorical_transformer</label><div class=\"sk-toggleable__content\"><pre>['Gender', 'Smoke', 'Diabetes', 'Ejection Fraction']</pre></div></div></div><div class=\"sk-serial\"><div class=\"sk-item\"><div class=\"sk-serial\"><div class=\"sk-item\"><div class=\"sk-estimator sk-toggleable\"><input class=\"sk-toggleable__control sk-hidden--visually\" id=\"7b2af02e-f8b7-4f77-99d8-92bda396849a\" type=\"checkbox\" ><label class=\"sk-toggleable__label\" for=\"7b2af02e-f8b7-4f77-99d8-92bda396849a\">OneHotEncoder</label><div class=\"sk-toggleable__content\"><pre>OneHotEncoder(handle_unknown='ignore')</pre></div></div></div></div></div></div></div></div></div></div><div class=\"sk-item\"><div class=\"sk-estimator sk-toggleable\"><input class=\"sk-toggleable__control sk-hidden--visually\" id=\"afc2d928-6d84-49dd-ac70-b97b0d7ad444\" type=\"checkbox\" ><label class=\"sk-toggleable__label\" for=\"afc2d928-6d84-49dd-ac70-b97b0d7ad444\">LogisticRegression</label><div class=\"sk-toggleable__content\"><pre>LogisticRegression(random_state=1992, solver='liblinear')</pre></div></div></div></div></div></div></div>"
      ],
      "text/plain": [
       "Pipeline(steps=[('preprocessor',\n",
       "                 ColumnTransformer(transformers=[('numeric_transformer',\n",
       "                                                  Pipeline(steps=[('imputer',\n",
       "                                                                   SimpleImputer()),\n",
       "                                                                  ('scaler',\n",
       "                                                                   StandardScaler())]),\n",
       "                                                  ['Age', 'Sodium',\n",
       "                                                   'Creatinine', 'Platelets',\n",
       "                                                   'Creatine phosphokinase',\n",
       "                                                   'Blood Pressure',\n",
       "                                                   'Hemoglobin', 'Height',\n",
       "                                                   'Weight']),\n",
       "                                                 ('categorical_transformer',\n",
       "                                                  Pipeline(steps=[('ohe',\n",
       "                                                                   OneHotEncoder(handle_unknown='ignore'))]),\n",
       "                                                  ['Gender', 'Smoke',\n",
       "                                                   'Diabetes',\n",
       "                                                   'Ejection Fraction'])])),\n",
       "                ('model',\n",
       "                 LogisticRegression(random_state=1992, solver='liblinear'))])"
      ]
     },
     "execution_count": 45,
     "metadata": {},
     "output_type": "execute_result"
    }
   ],
   "source": [
    "retrain_lr_pipeline = classifiers_with_pipeline_dict[\"LogisticRegression\"]\n",
    "retrain_lr_pipeline"
   ]
  },
  {
   "cell_type": "markdown",
   "id": "716ba14e-7c10-4922-937b-5a12c2aa3ba2",
   "metadata": {},
   "source": [
    "##### LR Decision Boundary\n",
    "\n",
    "https://stackoverflow.com/questions/28256058/plotting-decision-boundary-of-logistic-regression"
   ]
  },
  {
   "cell_type": "markdown",
   "id": "50d4a284-2382-4096-b58b-8d0b245ee245",
   "metadata": {},
   "source": [
    "##### DT Retrained"
   ]
  },
  {
   "cell_type": "code",
   "execution_count": 34,
   "id": "dddaf2bc-a3d6-4cce-a5be-9a605eb7d19a",
   "metadata": {},
   "outputs": [
    {
     "data": {
      "text/html": [
       "<style>#sk-9b317c23-4ee3-4c0b-922f-fceb20eae2cc {color: black;background-color: white;}#sk-9b317c23-4ee3-4c0b-922f-fceb20eae2cc pre{padding: 0;}#sk-9b317c23-4ee3-4c0b-922f-fceb20eae2cc div.sk-toggleable {background-color: white;}#sk-9b317c23-4ee3-4c0b-922f-fceb20eae2cc label.sk-toggleable__label {cursor: pointer;display: block;width: 100%;margin-bottom: 0;padding: 0.3em;box-sizing: border-box;text-align: center;}#sk-9b317c23-4ee3-4c0b-922f-fceb20eae2cc div.sk-toggleable__content {max-height: 0;max-width: 0;overflow: hidden;text-align: left;background-color: #f0f8ff;}#sk-9b317c23-4ee3-4c0b-922f-fceb20eae2cc div.sk-toggleable__content pre {margin: 0.2em;color: black;border-radius: 0.25em;background-color: #f0f8ff;}#sk-9b317c23-4ee3-4c0b-922f-fceb20eae2cc input.sk-toggleable__control:checked~div.sk-toggleable__content {max-height: 200px;max-width: 100%;overflow: auto;}#sk-9b317c23-4ee3-4c0b-922f-fceb20eae2cc div.sk-estimator input.sk-toggleable__control:checked~label.sk-toggleable__label {background-color: #d4ebff;}#sk-9b317c23-4ee3-4c0b-922f-fceb20eae2cc div.sk-label input.sk-toggleable__control:checked~label.sk-toggleable__label {background-color: #d4ebff;}#sk-9b317c23-4ee3-4c0b-922f-fceb20eae2cc input.sk-hidden--visually {border: 0;clip: rect(1px 1px 1px 1px);clip: rect(1px, 1px, 1px, 1px);height: 1px;margin: -1px;overflow: hidden;padding: 0;position: absolute;width: 1px;}#sk-9b317c23-4ee3-4c0b-922f-fceb20eae2cc div.sk-estimator {font-family: monospace;background-color: #f0f8ff;border: 1px dotted black;border-radius: 0.25em;box-sizing: border-box;margin-bottom: 0.5em;}#sk-9b317c23-4ee3-4c0b-922f-fceb20eae2cc div.sk-estimator:hover {background-color: #d4ebff;}#sk-9b317c23-4ee3-4c0b-922f-fceb20eae2cc div.sk-parallel-item::after {content: \"\";width: 100%;border-bottom: 1px solid gray;flex-grow: 1;}#sk-9b317c23-4ee3-4c0b-922f-fceb20eae2cc div.sk-label:hover label.sk-toggleable__label {background-color: #d4ebff;}#sk-9b317c23-4ee3-4c0b-922f-fceb20eae2cc div.sk-serial::before {content: \"\";position: absolute;border-left: 1px solid gray;box-sizing: border-box;top: 2em;bottom: 0;left: 50%;}#sk-9b317c23-4ee3-4c0b-922f-fceb20eae2cc div.sk-serial {display: flex;flex-direction: column;align-items: center;background-color: white;padding-right: 0.2em;padding-left: 0.2em;}#sk-9b317c23-4ee3-4c0b-922f-fceb20eae2cc div.sk-item {z-index: 1;}#sk-9b317c23-4ee3-4c0b-922f-fceb20eae2cc div.sk-parallel {display: flex;align-items: stretch;justify-content: center;background-color: white;}#sk-9b317c23-4ee3-4c0b-922f-fceb20eae2cc div.sk-parallel::before {content: \"\";position: absolute;border-left: 1px solid gray;box-sizing: border-box;top: 2em;bottom: 0;left: 50%;}#sk-9b317c23-4ee3-4c0b-922f-fceb20eae2cc div.sk-parallel-item {display: flex;flex-direction: column;position: relative;background-color: white;}#sk-9b317c23-4ee3-4c0b-922f-fceb20eae2cc div.sk-parallel-item:first-child::after {align-self: flex-end;width: 50%;}#sk-9b317c23-4ee3-4c0b-922f-fceb20eae2cc div.sk-parallel-item:last-child::after {align-self: flex-start;width: 50%;}#sk-9b317c23-4ee3-4c0b-922f-fceb20eae2cc div.sk-parallel-item:only-child::after {width: 0;}#sk-9b317c23-4ee3-4c0b-922f-fceb20eae2cc div.sk-dashed-wrapped {border: 1px dashed gray;margin: 0 0.4em 0.5em 0.4em;box-sizing: border-box;padding-bottom: 0.4em;background-color: white;position: relative;}#sk-9b317c23-4ee3-4c0b-922f-fceb20eae2cc div.sk-label label {font-family: monospace;font-weight: bold;background-color: white;display: inline-block;line-height: 1.2em;}#sk-9b317c23-4ee3-4c0b-922f-fceb20eae2cc div.sk-label-container {position: relative;z-index: 2;text-align: center;}#sk-9b317c23-4ee3-4c0b-922f-fceb20eae2cc div.sk-container {display: inline-block;position: relative;}</style><div id=\"sk-9b317c23-4ee3-4c0b-922f-fceb20eae2cc\" class\"sk-top-container\"><div class=\"sk-container\"><div class=\"sk-item sk-dashed-wrapped\"><div class=\"sk-label-container\"><div class=\"sk-label sk-toggleable\"><input class=\"sk-toggleable__control sk-hidden--visually\" id=\"37527838-99b9-4aba-bb1d-237d8dbbb5ad\" type=\"checkbox\" ><label class=\"sk-toggleable__label\" for=\"37527838-99b9-4aba-bb1d-237d8dbbb5ad\">Pipeline</label><div class=\"sk-toggleable__content\"><pre>Pipeline(steps=[('preprocessor',\n",
       "                 ColumnTransformer(transformers=[('numeric_transformer',\n",
       "                                                  Pipeline(steps=[('imputer',\n",
       "                                                                   SimpleImputer()),\n",
       "                                                                  ('scaler',\n",
       "                                                                   StandardScaler())]),\n",
       "                                                  ['Age', 'Sodium',\n",
       "                                                   'Creatinine', 'Platelets',\n",
       "                                                   'Creatine phosphokinase',\n",
       "                                                   'Blood Pressure',\n",
       "                                                   'Hemoglobin', 'Height',\n",
       "                                                   'Weight']),\n",
       "                                                 ('categorical_transformer',\n",
       "                                                  Pipeline(steps=[('ohe',\n",
       "                                                                   OneHotEncoder(handle_unknown='ignore'))]),\n",
       "                                                  ['Gender', 'Smoke',\n",
       "                                                   'Diabetes',\n",
       "                                                   'Ejection Fraction'])])),\n",
       "                ('model', DecisionTreeClassifier(random_state=1992))])</pre></div></div></div><div class=\"sk-serial\"><div class=\"sk-item sk-dashed-wrapped\"><div class=\"sk-label-container\"><div class=\"sk-label sk-toggleable\"><input class=\"sk-toggleable__control sk-hidden--visually\" id=\"d2f47d4b-b8ba-49a4-ae0a-5adda0fde912\" type=\"checkbox\" ><label class=\"sk-toggleable__label\" for=\"d2f47d4b-b8ba-49a4-ae0a-5adda0fde912\">preprocessor: ColumnTransformer</label><div class=\"sk-toggleable__content\"><pre>ColumnTransformer(transformers=[('numeric_transformer',\n",
       "                                 Pipeline(steps=[('imputer', SimpleImputer()),\n",
       "                                                 ('scaler', StandardScaler())]),\n",
       "                                 ['Age', 'Sodium', 'Creatinine', 'Platelets',\n",
       "                                  'Creatine phosphokinase', 'Blood Pressure',\n",
       "                                  'Hemoglobin', 'Height', 'Weight']),\n",
       "                                ('categorical_transformer',\n",
       "                                 Pipeline(steps=[('ohe',\n",
       "                                                  OneHotEncoder(handle_unknown='ignore'))]),\n",
       "                                 ['Gender', 'Smoke', 'Diabetes',\n",
       "                                  'Ejection Fraction'])])</pre></div></div></div><div class=\"sk-parallel\"><div class=\"sk-parallel-item\"><div class=\"sk-item\"><div class=\"sk-label-container\"><div class=\"sk-label sk-toggleable\"><input class=\"sk-toggleable__control sk-hidden--visually\" id=\"fd511089-ab4a-4bea-869e-323ad64957ca\" type=\"checkbox\" ><label class=\"sk-toggleable__label\" for=\"fd511089-ab4a-4bea-869e-323ad64957ca\">numeric_transformer</label><div class=\"sk-toggleable__content\"><pre>['Age', 'Sodium', 'Creatinine', 'Platelets', 'Creatine phosphokinase', 'Blood Pressure', 'Hemoglobin', 'Height', 'Weight']</pre></div></div></div><div class=\"sk-serial\"><div class=\"sk-item\"><div class=\"sk-serial\"><div class=\"sk-item\"><div class=\"sk-estimator sk-toggleable\"><input class=\"sk-toggleable__control sk-hidden--visually\" id=\"b2a28ce2-412f-4716-9c5d-db0f6073e23d\" type=\"checkbox\" ><label class=\"sk-toggleable__label\" for=\"b2a28ce2-412f-4716-9c5d-db0f6073e23d\">SimpleImputer</label><div class=\"sk-toggleable__content\"><pre>SimpleImputer()</pre></div></div></div><div class=\"sk-item\"><div class=\"sk-estimator sk-toggleable\"><input class=\"sk-toggleable__control sk-hidden--visually\" id=\"1f349856-3cc6-417c-9724-c1b0650fddc1\" type=\"checkbox\" ><label class=\"sk-toggleable__label\" for=\"1f349856-3cc6-417c-9724-c1b0650fddc1\">StandardScaler</label><div class=\"sk-toggleable__content\"><pre>StandardScaler()</pre></div></div></div></div></div></div></div></div><div class=\"sk-parallel-item\"><div class=\"sk-item\"><div class=\"sk-label-container\"><div class=\"sk-label sk-toggleable\"><input class=\"sk-toggleable__control sk-hidden--visually\" id=\"8ca31f6f-73da-4a76-a070-8dcf33e50a29\" type=\"checkbox\" ><label class=\"sk-toggleable__label\" for=\"8ca31f6f-73da-4a76-a070-8dcf33e50a29\">categorical_transformer</label><div class=\"sk-toggleable__content\"><pre>['Gender', 'Smoke', 'Diabetes', 'Ejection Fraction']</pre></div></div></div><div class=\"sk-serial\"><div class=\"sk-item\"><div class=\"sk-serial\"><div class=\"sk-item\"><div class=\"sk-estimator sk-toggleable\"><input class=\"sk-toggleable__control sk-hidden--visually\" id=\"be06bfb7-c604-407d-99a9-44ab95ad97b8\" type=\"checkbox\" ><label class=\"sk-toggleable__label\" for=\"be06bfb7-c604-407d-99a9-44ab95ad97b8\">OneHotEncoder</label><div class=\"sk-toggleable__content\"><pre>OneHotEncoder(handle_unknown='ignore')</pre></div></div></div></div></div></div></div></div></div></div><div class=\"sk-item\"><div class=\"sk-estimator sk-toggleable\"><input class=\"sk-toggleable__control sk-hidden--visually\" id=\"367734c7-2f09-4b08-b8f8-322a05104c7d\" type=\"checkbox\" ><label class=\"sk-toggleable__label\" for=\"367734c7-2f09-4b08-b8f8-322a05104c7d\">DecisionTreeClassifier</label><div class=\"sk-toggleable__content\"><pre>DecisionTreeClassifier(random_state=1992)</pre></div></div></div></div></div></div></div>"
      ],
      "text/plain": [
       "Pipeline(steps=[('preprocessor',\n",
       "                 ColumnTransformer(transformers=[('numeric_transformer',\n",
       "                                                  Pipeline(steps=[('imputer',\n",
       "                                                                   SimpleImputer()),\n",
       "                                                                  ('scaler',\n",
       "                                                                   StandardScaler())]),\n",
       "                                                  ['Age', 'Sodium',\n",
       "                                                   'Creatinine', 'Platelets',\n",
       "                                                   'Creatine phosphokinase',\n",
       "                                                   'Blood Pressure',\n",
       "                                                   'Hemoglobin', 'Height',\n",
       "                                                   'Weight']),\n",
       "                                                 ('categorical_transformer',\n",
       "                                                  Pipeline(steps=[('ohe',\n",
       "                                                                   OneHotEncoder(handle_unknown='ignore'))]),\n",
       "                                                  ['Gender', 'Smoke',\n",
       "                                                   'Diabetes',\n",
       "                                                   'Ejection Fraction'])])),\n",
       "                ('model', DecisionTreeClassifier(random_state=1992))])"
      ]
     },
     "execution_count": 34,
     "metadata": {},
     "output_type": "execute_result"
    }
   ],
   "source": [
    "retrain_dt_pipeline = classifiers_with_pipeline_dict[\"DecisionTreeClassifier\"]\n",
    "retrain_dt_pipeline"
   ]
  },
  {
   "cell_type": "markdown",
   "id": "beb84b18-1a5b-445b-b167-b011795e90eb",
   "metadata": {},
   "source": [
    "##### DT Plot Tree"
   ]
  },
  {
   "cell_type": "code",
   "execution_count": 46,
   "id": "43c16f63-595b-45ef-ab5f-ef09e76d7819",
   "metadata": {},
   "outputs": [
    {
     "data": {
      "image/png": "[encoded data removed]",
      "text/plain": [
       "<Figure size 1728x1728 with 1 Axes>"
      ]
     },
     "metadata": {
      "needs_background": "light"
     },
     "output_type": "display_data"
    }
   ],
   "source": [
    "# plot tree\n",
    "plt.figure(figsize=(24, 24))  # set plot size (denoted in inches)\n",
    "sklearn.tree.plot_tree(retrain_dt_pipeline[\"model\"], max_depth = 3, feature_names = list(feature_columns), fontsize=10)\n",
    "plt.show()\n"
   ]
  },
  {
   "cell_type": "markdown",
   "id": "f2e76d96-faae-4664-b000-a39dbe17f66e",
   "metadata": {},
   "source": [
    "##### DT Feature Names and Importance\n",
    "\n",
    "Hack to get features names out of pipeline object cause one hot encoded so cannot just take from df. https://stackoverflow.com/questions/54646709/sklearn-pipeline-get-feature-names-after-onehotencode-in-columntransformer"
   ]
  },
  {
   "cell_type": "code",
   "execution_count": 38,
   "id": "aa937776-2e23-42c7-bf39-82100826db06",
   "metadata": {},
   "outputs": [],
   "source": [
    "feature_columns = retrain_dt_pipeline[\"preprocessor\"].get_feature_names_out()"
   ]
  },
  {
   "cell_type": "code",
   "execution_count": 39,
   "id": "dc5f99b0-cddb-4245-9e60-1cecb2c3b283",
   "metadata": {},
   "outputs": [
    {
     "data": {
      "text/plain": [
       "array([0.09166871, 0.10362914, 0.25938572, 0.12569358, 0.16468277,\n",
       "       0.01163998, 0.01371003, 0.03271491, 0.11143199, 0.00501543,\n",
       "       0.01258085, 0.02773394, 0.02148256, 0.        , 0.01783839,\n",
       "       0.        , 0.        , 0.        , 0.000792  ])"
      ]
     },
     "execution_count": 39,
     "metadata": {},
     "output_type": "execute_result"
    }
   ],
   "source": [
    "retrain_dt_pipeline[\"model\"].feature_importances_"
   ]
  },
  {
   "cell_type": "markdown",
   "id": "55826821-336f-41ee-bab2-2c76dd4d4b81",
   "metadata": {},
   "source": [
    "##### DT Decision Boundary\n",
    "\n",
    "- https://scikit-learn.org/stable/auto_examples/tree/plot_iris_dtc.html"
   ]
  },
  {
   "cell_type": "markdown",
   "id": "ac0fee63-7297-40f4-aca9-cd0fe3f818ce",
   "metadata": {},
   "source": [
    "##### RF Retrained"
   ]
  },
  {
   "cell_type": "code",
   "execution_count": null,
   "id": "46b07379-9a8f-4c5e-9d91-e3c7c58f4260",
   "metadata": {},
   "outputs": [],
   "source": [
    "retrain_rf_pipeline = retrain_classifiers_with_pipeline_dict[\"RandomForestClassifier\"]\n",
    "\n",
    "_ = retrain_rf_pipeline.fit(X_train, y_train)"
   ]
  },
  {
   "cell_type": "markdown",
   "id": "1d800834-a659-4b9b-a63d-3c2d66b9aa27",
   "metadata": {},
   "source": [
    "### Model Persistence (Saving Models)\n",
    "\n",
    "[Model Persistence](https://scikit-learn.org/stable/modules/model_persistence.html)\n",
    "\n",
    "We save our models using `joblib` and we can load it back any time. \n",
    "\n",
    "!!! note\n",
    "    Save it to wandb or GCP storage to store models for better consistency."
   ]
  },
  {
   "cell_type": "code",
   "execution_count": null,
   "id": "mRqmOF-Ygmbw",
   "metadata": {
    "id": "mRqmOF-Ygmbw"
   },
   "outputs": [],
   "source": [
    "model_path = \"/content/\"\n",
    "\n",
    "def save_model(grids: List[Callable], path: str):\n",
    "    \"\"\"Save a model to a file\"\"\"\n",
    "    for grid in grids:\n",
    "        model_name = grid.best_estimator_[\"model\"].__class__.__name__\n",
    "        path_to_save = Path(path, f\"{model_name}_grid.joblib\")\n",
    "        # Dump to local path\n",
    "        dump(grid, Path(path, path_to_save))\n",
    "        # Dump to wandb cloud\n",
    "        # \"model.h5\" is saved in wandb.run.dir & will be uploaded at the end of training\n",
    "        wandb.save(os.path.join(wandb.run.dir, path_to_save))"
   ]
  },
  {
   "cell_type": "markdown",
   "id": "6c56dc95-b398-41f2-9e66-50d51ab9e243",
   "metadata": {
    "id": "IxVTcaOD3GMf"
   },
   "source": [
    "Save the model!"
   ]
  },
  {
   "cell_type": "markdown",
   "id": "1275ed65-fec1-4337-9f6c-92cdf87edde6",
   "metadata": {
    "id": "FuFv_36GBXYT"
   },
   "source": [
    "#### Wandb\n",
    "\n",
    "We first see how we save and load using wandb."
   ]
  },
  {
   "cell_type": "code",
   "execution_count": null,
   "id": "zuCa8MZMYAQY",
   "metadata": {
    "colab": {
     "base_uri": "https://localhost:8080/"
    },
    "id": "zuCa8MZMYAQY",
    "outputId": "52f8cbd8-0d86-4253-b1b8-6f2d8e7187bf"
   },
   "outputs": [
    {
     "name": "stderr",
     "output_type": "stream",
     "text": [
      "\u001b[34m\u001b[1mwandb\u001b[0m: \u001b[33mWARNING\u001b[0m Saving files without folders. If you want to preserve sub directories pass base_path to wandb.save, i.e. wandb.save(\"/mnt/folder/file.h5\", base_path=\"/mnt\")\n",
      "\u001b[34m\u001b[1mwandb\u001b[0m: \u001b[33mWARNING\u001b[0m Saving files without folders. If you want to preserve sub directories pass base_path to wandb.save, i.e. wandb.save(\"/mnt/folder/file.h5\", base_path=\"/mnt\")\n",
      "\u001b[34m\u001b[1mwandb\u001b[0m: \u001b[33mWARNING\u001b[0m Saving files without folders. If you want to preserve sub directories pass base_path to wandb.save, i.e. wandb.save(\"/mnt/folder/file.h5\", base_path=\"/mnt\")\n"
     ]
    }
   ],
   "source": [
    "save_model(grids, model_path)"
   ]
  },
  {
   "cell_type": "code",
   "execution_count": null,
   "id": "BNzqw4bb-fpz",
   "metadata": {
    "id": "BNzqw4bb-fpz"
   },
   "outputs": [],
   "source": [
    "logistic_path = \"LogisticRegression_grid.joblib\""
   ]
  },
  {
   "cell_type": "code",
   "execution_count": null,
   "id": "h2lmYkxw9Joh",
   "metadata": {
    "id": "h2lmYkxw9Joh"
   },
   "outputs": [],
   "source": [
    "# restore the model file \"model.h5\" from a specific run by user \"lavanyashukla\"\n",
    "# in project \"save_and_restore\" from run \"10pr4joa\"\n",
    "best_model = wandb.restore(logistic_path)\n",
    "\n",
    "\n",
    "# use the \"name\" attribute of the returned object\n",
    "# if your framework expects a filename, e.g. as in Keras\n",
    "# model.load_weights(best_model.name)"
   ]
  },
  {
   "cell_type": "markdown",
   "id": "7ee473a8-9aeb-480e-b791-2521c16a4a2d",
   "metadata": {
    "id": "TdH-otf2BgLm"
   },
   "source": [
    "#### Joblib\n",
    "\n",
    "We see how we use `joblib` to save and load."
   ]
  },
  {
   "cell_type": "markdown",
   "id": "56533e9f-381a-48ea-9abe-8a27fc3d04fd",
   "metadata": {
    "id": "tjzF-_Wf3IZX"
   },
   "source": [
    "Load the model, and we can test it now if our loaded models is predicting correctly!"
   ]
  },
  {
   "cell_type": "code",
   "execution_count": null,
   "id": "K6LoPzQcYVE2",
   "metadata": {
    "id": "K6LoPzQcYVE2"
   },
   "outputs": [],
   "source": [
    "logistic_grid = load(\"/content/LogisticRegression_grid.joblib\")"
   ]
  },
  {
   "cell_type": "markdown",
   "id": "aa6d9db2-1bbc-49ba-8490-c1a45c4d8c39",
   "metadata": {
    "id": "jIaB9fjw3UNp"
   },
   "source": [
    "Great it seems to work!"
   ]
  },
  {
   "cell_type": "markdown",
   "id": "7d623642-630f-4e5d-8afb-18f4d88f636f",
   "metadata": {
    "id": "3aXAiYeIBlRT"
   },
   "source": [
    "#### Sanity Check"
   ]
  },
  {
   "cell_type": "markdown",
   "id": "160f2010-1ce0-49ab-8a72-b6d89642bcd0",
   "metadata": {
    "id": "M4D6AC-aBwhv"
   },
   "source": [
    "!!! note\n",
    "    We just make sure our loaded weight from path is the same as the one we trained. We can easily compare predictions (or coefficients) by the following."
   ]
  },
  {
   "cell_type": "code",
   "execution_count": null,
   "id": "xhd340x93P9b",
   "metadata": {
    "colab": {
     "base_uri": "https://localhost:8080/"
    },
    "id": "xhd340x93P9b",
    "outputId": "2eb121d1-3be9-468b-f89e-eb0b7dd1f4c0"
   },
   "outputs": [
    {
     "data": {
      "text/plain": [
       "True"
      ]
     },
     "execution_count": 104,
     "metadata": {},
     "output_type": "execute_result"
    }
   ],
   "source": [
    "load(best_model.name).predict(X_train).all() == logistic_grid.predict(\n",
    "    X_train\n",
    ").all() == grids[0].predict(X_train).all()"
   ]
  },
  {
   "cell_type": "code",
   "execution_count": null,
   "id": "M9GAZsxFYZba",
   "metadata": {
    "colab": {
     "base_uri": "https://localhost:8080/"
    },
    "id": "M9GAZsxFYZba",
    "outputId": "c71260a1-583d-46ac-8576-4263111da2c5"
   },
   "outputs": [
    {
     "data": {
      "text/plain": [
       "True"
      ]
     },
     "execution_count": 105,
     "metadata": {},
     "output_type": "execute_result"
    }
   ],
   "source": [
    "metrics.roc_auc_score(\n",
    "    y_train, logistic_grid.predict_proba(X_train)[:, 1]\n",
    ") == metrics.roc_auc_score(\n",
    "    y_train, grids[0].predict_proba(X_train)[:, 1]\n",
    ") == metrics.roc_auc_score(\n",
    "    y_train, load(best_model.name).predict_proba(X_train)[:, 1]\n",
    ")\n"
   ]
  },
  {
   "cell_type": "markdown",
   "id": "8fbaa7f2-2952-4a86-8792-8f21719f4740",
   "metadata": {
    "id": "UE9dZekKB6Op"
   },
   "source": [
    "Seems like the save and load method works perfectly."
   ]
  },
  {
   "cell_type": "markdown",
   "id": "4d2ba7bc-79d4-4f85-bd20-2b0e3bd23d92",
   "metadata": {
    "id": "eGYIKrSZ1xyl"
   },
   "source": [
    "!!! warning\n",
    "    Do not call this directly.\n",
    "    ```python\n",
    "    grids[0].best_estimator_[\"model\"].predict(X_train)\n",
    "    ```\n",
    "\n",
    "    This is because `grids[0].best_estimator_[\"model\"]` is only referring to the Logistic Regression Model WITHOUT the pipeline (preprocessing) steps. And hence will raise error if the preprocessing steps has feature selection. But the main idea is, be careful when using the above."
   ]
  },
  {
   "cell_type": "code",
   "execution_count": null,
   "id": "K3Gwl1sS0YMx",
   "metadata": {
    "id": "K3Gwl1sS0YMx"
   },
   "outputs": [],
   "source": [
    "# grids[0].best_estimator_[\"model\"].predict(X_train)"
   ]
  },
  {
   "cell_type": "markdown",
   "id": "eeb8d70d-7d5a-4af8-8b6f-ead6e5cfd343",
   "metadata": {},
   "source": []
  },
  {
   "cell_type": "markdown",
   "id": "c6b694da-f7b1-4b0b-b0d3-44dc562caad4",
   "metadata": {},
   "source": []
  },
  {
   "cell_type": "markdown",
   "id": "4d295e09-a8aa-4117-b7c9-93a1211cec87",
   "metadata": {},
   "source": []
  },
  {
   "cell_type": "markdown",
   "id": "c1702ab5-b342-4c99-bff6-fd9974cf0caf",
   "metadata": {},
   "source": []
  },
  {
   "cell_type": "markdown",
   "id": "20be4d71-875e-4a04-acf3-79baeb22eb09",
   "metadata": {},
   "source": []
  }
 ],
 "metadata": {
  "kernelspec": {
   "display_name": "Python 3 (ipykernel)",
   "language": "python",
   "name": "python3"
  },
  "language_info": {
   "codemirror_mode": {
    "name": "ipython",
    "version": 3
   },
   "file_extension": ".py",
   "mimetype": "text/x-python",
   "name": "python",
   "nbconvert_exporter": "python",
   "pygments_lexer": "ipython3",
   "version": "3.9.10"
  }
 },
 "nbformat": 4,
 "nbformat_minor": 5
}
