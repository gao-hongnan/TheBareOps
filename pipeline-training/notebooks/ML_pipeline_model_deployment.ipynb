{
 "cells": [
  {
   "cell_type": "code",
   "execution_count": null,
   "id": "f6652931-7f8c-4f59-98eb-8850271d7d85",
   "metadata": {},
   "outputs": [],
   "source": []
  }
 ],
 "metadata": {
  "kernelspec": {
   "display_name": "Python 3 (ipykernel)",
   "language": "python",
   "name": "python3"
  },
  "language_info": {
   "name": ""
  }
 },
 "nbformat": 4,
 "nbformat_minor": 5
}
